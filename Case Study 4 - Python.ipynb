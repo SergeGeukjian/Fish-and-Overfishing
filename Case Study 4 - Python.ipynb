{
 "cells": [
  {
   "cell_type": "markdown",
   "metadata": {},
   "source": [
    "## Loading Libraries & Data"
   ]
  },
  {
   "cell_type": "code",
   "execution_count": 31,
   "metadata": {},
   "outputs": [
    {
     "name": "stdout",
     "output_type": "stream",
     "text": [
      "1.18.4\n",
      "1.0.3\n"
     ]
    }
   ],
   "source": [
    "import seaborn as sns\n",
    "import matplotlib as mtpl \n",
    "import plotly as plt\n",
    "import numpy as np\n",
    "import pandas as pd\n",
    "import sys\n",
    "import getopt\n",
    "import plotly.express as px\n",
    "import openpyxl\n",
    "from IPython.core.interactiveshell import InteractiveShell\n",
    "InteractiveShell.ast_node_interactivity = \"all\"\n",
    "print(np.__version__)\n",
    "print(pd.__version__)"
   ]
  },
  {
   "cell_type": "code",
   "execution_count": 2,
   "metadata": {
    "scrolled": true
   },
   "outputs": [],
   "source": [
    "farmed = pd.read_csv(\"https://raw.githubusercontent.com/rfordatascience/tidytuesday/master/data/2021/2021-10-12/aquaculture-farmed-fish-production.csv\")\n",
    "captured_vs_farmed = pd.read_csv(\"https://raw.githubusercontent.com/rfordatascience/tidytuesday/master/data/2021/2021-10-12/capture-fisheries-vs-aquaculture.csv\")\n",
    "captured = pd.read_csv(\"https://raw.githubusercontent.com/rfordatascience/tidytuesday/master/data/2021/2021-10-12/capture-fishery-production.csv\")\n",
    "consumption = pd.read_csv(\"https://raw.githubusercontent.com/rfordatascience/tidytuesday/master/data/2021/2021-10-12/fish-and-seafood-consumption-per-capita.csv\")\n",
    "stock = pd.read_csv(\"https://raw.githubusercontent.com/rfordatascience/tidytuesday/master/data/2021/2021-10-12/fish-stocks-within-sustainable-levels.csv\")\n",
    "fishery = pd.read_csv(\"https://raw.githubusercontent.com/rfordatascience/tidytuesday/master/data/2021/2021-10-12/global-fishery-catch-by-sector.csv\")\n",
    "production = pd.read_csv(\"https://raw.githubusercontent.com/rfordatascience/tidytuesday/master/data/2021/2021-10-12/seafood-and-fish-production-thousand-tonnes.csv\")"
   ]
  },
  {
   "cell_type": "markdown",
   "metadata": {},
   "source": [
    "## Cross checking the \"captured\" and the \"farmed\" tables with the \"captured_vs_farmed\" table"
   ]
  },
  {
   "cell_type": "code",
   "execution_count": 3,
   "metadata": {},
   "outputs": [
    {
     "data": {
      "text/plain": [
       "0.0"
      ]
     },
     "execution_count": 3,
     "metadata": {},
     "output_type": "execute_result"
    },
    {
     "data": {
      "text/plain": [
       "0.0"
      ]
     },
     "execution_count": 3,
     "metadata": {},
     "output_type": "execute_result"
    }
   ],
   "source": [
    "captured_vs_farmed.columns = captured_vs_farmed.columns.str.replace(' ', '_')\n",
    "captured_vs_farmed['Capture_fisheries_production_(metric_tons)'] = captured_vs_farmed['Capture_fisheries_production_(metric_tons)'].replace(np.nan,0)\n",
    "captured_vs_farmed['Aquaculture_production_(metric_tons)'] = captured_vs_farmed['Aquaculture_production_(metric_tons)'].replace(np.nan,0)\n",
    "\n",
    "#Checking if all \"captured\" data is found in the captured_vs_farmed table\n",
    "sum(captured[\"Capture fisheries production (metric tons)\"]) - sum(captured_vs_farmed['Capture_fisheries_production_(metric_tons)'])\n",
    "\n",
    "#Checking if all \"farmed\" data is found in the captured_vs_farmed table\n",
    "sum(farmed[\"Aquaculture production (metric tons)\"]) - sum(captured_vs_farmed['Aquaculture_production_(metric_tons)'])"
   ]
  },
  {
   "cell_type": "markdown",
   "metadata": {},
   "source": [
    "## Removing the regions that are groups from the captured_vs_farmed and from consumption"
   ]
  },
  {
   "cell_type": "code",
   "execution_count": 4,
   "metadata": {},
   "outputs": [],
   "source": [
    "ToExclude = ([\"Americas\", \"Africa Eastern and Southern\", \"Africa Western and Central\", \"Arab World\", \"Asia\", \"Asia, Central\", \"Australia & New Zealand\", \"Caribbean\", \"Central America\", \"Central Europe and the Baltics\", \"Channel Islands\", \"Eastern Africa\", \"Eastern Asia\", \"Eastern Europe\", \"Ethiopia PDR\", \"Europe\", \"Europe, Western\", \"European Union\", \"Early-demographic dividend\", \"East Asia & Pacific\", \"East Asia & Pacific (IDA & IBRD)\", \"East Asia & Pacific (excluding high income)\", \"Equatorial Guinea\", \"Euro area\", \"Europe & Central Asia\", \"Europe & Central Asia (IDA & IBRD)\", \"Europe & Central Asia (excluding high income)\", \"Fragile and conflict affected situations\", \"Heavily indebted poor countries (HIPC)\", \"High income\", \"IBRD only\", \"IDA & IBRD total\", \"IDA blend\", \"IDA only\", \"IDA total\", \"Land Locked Developing Countries\", \"Least Developed Countries\", \"Low Income Food Deficit Countries\", \"Late-demographic dividend\", \"Latin America & Caribbean\", \"Latin America & Caribbean (IDA & IBRD)\", \"Latin America & Caribbean (excluding high income)\", \"Least developed countries: UN classification\", \"Low & middle income\", \"Low income\", \"Lower middle income\", \"Middle East & North Africa\", \"Middle East & North Africa (IDA & IBRD)\", \"Middle East & North Africa (excluding high income)\", \"Middle income\", \"Middle Africa\", \"Net Food Importing Developing Countries\", \"Netherlands Antilles\", \"Northern Africa\", \"Northern America\", \"Northern Europe\", \"North America\", \"OECD members\", \"Other small states\", \"Pacific island small states\", \"Post-demographic dividend\", \"Pre-demographic dividend\", \"Oceania\", \"Serbia and Montenegro\", \"Small island developing States\", \"South AmericaSouth America\", \"South Eastern Asia\", \"Southern Africa\", \"Southern Asia\", \"Southern Europe\", \"Sudan (former)\", \"Small states\", \"South Asia\", \"South Asia (IDA & IBRD)\", \"South Sudan\", \"Sub-Saharan Africa\", \"Sub-Saharan Africa (IDA & IBRD)\", \"Sub-Saharan Africa (excluding high income)\", \"Upper middle income\", \"USSR\", \"Western Africa\", \"Western Asia\", \"World\"])\n",
    "\n",
    "captured_vs_farmed['Entity'] = captured_vs_farmed[~captured_vs_farmed['Entity'].isin(ToExclude)]\n",
    "captured_vs_farmed = captured_vs_farmed.dropna()\n",
    "\n",
    "consumption['Entity'] = consumption[~consumption['Entity'].isin(ToExclude)]\n",
    "consumption = consumption.dropna()\n"
   ]
  },
  {
   "cell_type": "markdown",
   "metadata": {},
   "source": [
    "## Visualizing the Timeline graph of the captured_vs_farmed"
   ]
  },
  {
   "cell_type": "code",
   "execution_count": 5,
   "metadata": {},
   "outputs": [
    {
     "data": {
      "text/plain": [
       "<matplotlib.axes._subplots.AxesSubplot at 0x12058ad90>"
      ]
     },
     "execution_count": 5,
     "metadata": {},
     "output_type": "execute_result"
    },
    {
     "data": {
      "text/plain": [
       "(array([1950., 1960., 1970., 1980., 1990., 2000., 2010., 2020., 2030.]),\n",
       " <a list of 9 Text major ticklabel objects>)"
      ]
     },
     "execution_count": 5,
     "metadata": {},
     "output_type": "execute_result"
    },
    {
     "data": {
      "text/plain": [
       "Text(0.5, 1.0, 'Aquaculture vs Capture Trend Timeline')"
      ]
     },
     "execution_count": 5,
     "metadata": {},
     "output_type": "execute_result"
    },
    {
     "data": {
      "text/plain": [
       "Text(0.5, 0, 'Year')"
      ]
     },
     "execution_count": 5,
     "metadata": {},
     "output_type": "execute_result"
    },
    {
     "data": {
      "text/plain": [
       "Text(0, 0.5, 'Metric Tones')"
      ]
     },
     "execution_count": 5,
     "metadata": {},
     "output_type": "execute_result"
    },
    {
     "data": {
      "text/plain": [
       "([<matplotlib.axis.XTick at 0x120495fd0>,\n",
       "  <matplotlib.axis.XTick at 0x120495f90>,\n",
       "  <matplotlib.axis.XTick at 0x1204b3690>,\n",
       "  <matplotlib.axis.XTick at 0x1204f6450>,\n",
       "  <matplotlib.axis.XTick at 0x1204f6b90>,\n",
       "  <matplotlib.axis.XTick at 0x1204f6510>,\n",
       "  <matplotlib.axis.XTick at 0x120509690>,\n",
       "  <matplotlib.axis.XTick at 0x120509bd0>,\n",
       "  <matplotlib.axis.XTick at 0x120513090>,\n",
       "  <matplotlib.axis.XTick at 0x120495b10>,\n",
       "  <matplotlib.axis.XTick at 0x120509b10>,\n",
       "  <matplotlib.axis.XTick at 0x120513e50>,\n",
       "  <matplotlib.axis.XTick at 0x120513250>],\n",
       " [Text(0, 0, '1960'),\n",
       "  Text(0, 0, '1965'),\n",
       "  Text(0, 0, '1970'),\n",
       "  Text(0, 0, '1975'),\n",
       "  Text(0, 0, '1980'),\n",
       "  Text(0, 0, '1985'),\n",
       "  Text(0, 0, '1990'),\n",
       "  Text(0, 0, '1995'),\n",
       "  Text(0, 0, '2000'),\n",
       "  Text(0, 0, '2005'),\n",
       "  Text(0, 0, '2010'),\n",
       "  Text(0, 0, '2015'),\n",
       "  Text(0, 0, '2020')])"
      ]
     },
     "execution_count": 5,
     "metadata": {},
     "output_type": "execute_result"
    },
    {
     "data": {
      "image/png": "[encoded data removed]",
      "text/plain": [
       "<Figure size 432x288 with 1 Axes>"
      ]
     },
     "metadata": {
      "needs_background": "light"
     },
     "output_type": "display_data"
    }
   ],
   "source": [
    "cap_vs_farm_time = captured_vs_farmed[['Year', 'Aquaculture_production_(metric_tons)', 'Capture_fisheries_production_(metric_tons)']]\n",
    "\n",
    "cap_vs_farm_time_pivoted = cap_vs_farm_time.melt(id_vars = \"Year\", var_name = \"Aquaculture/Capture\", value_name = \"Metric Tones\")\n",
    "cap_vs_farm_time_pivoted['Aquaculture/Capture'] = cap_vs_farm_time_pivoted['Aquaculture/Capture'].replace(\"Capture_fisheries_production_(metric_tons)\", \"Captured\")\n",
    "cap_vs_farm_time_pivoted['Aquaculture/Capture'] = cap_vs_farm_time_pivoted['Aquaculture/Capture'].replace(\"Aquaculture_production_(metric_tons)\", \"Aquaculture\")\n",
    "\n",
    "\n",
    "\n",
    "df = cap_vs_farm_time_pivoted.groupby(['Year', 'Aquaculture/Capture']).sum()['Metric Tones']\n",
    "df.unstack().plot(marker=\"o\")\n",
    "mtpl.pyplot.xticks(rotation=45)\n",
    "mtpl.pyplot.title('Aquaculture vs Capture Trend Timeline')\n",
    "mtpl.pyplot.xlabel('Year') \n",
    "mtpl.pyplot.ylabel('Metric Tones')\n",
    "mtpl.pyplot.grid(True)\n",
    "x = [1960, 1965, 1970,1975,1980,1985,1990,1995,2000,2005,2010,2015,2020]\n",
    "mtpl.pyplot.xticks(x,x)\n"
   ]
  },
  {
   "cell_type": "markdown",
   "metadata": {},
   "source": [
    "As we see here Aquaculture has evolved throughout the years. It's starting to incline more steeply around the 1990s and around 2010-2011 and on the contrary the Capture amount has been decreasing after that year. This means that people are realizing the increase of the demand on the fish food and they also, with technology and education, are realizing that aquaculture may be a good way to save the aqua natural life and avoid endangering species."
   ]
  },
  {
   "cell_type": "markdown",
   "metadata": {},
   "source": [
    "## Consumption of seafood related data (LineChart)"
   ]
  },
  {
   "cell_type": "code",
   "execution_count": 6,
   "metadata": {},
   "outputs": [
    {
     "data": {
      "text/plain": [
       "<matplotlib.axes._subplots.AxesSubplot at 0x122641fd0>"
      ]
     },
     "execution_count": 6,
     "metadata": {},
     "output_type": "execute_result"
    },
    {
     "data": {
      "text/plain": [
       "(array([1950., 1960., 1970., 1980., 1990., 2000., 2010., 2020.]),\n",
       " <a list of 8 Text major ticklabel objects>)"
      ]
     },
     "execution_count": 6,
     "metadata": {},
     "output_type": "execute_result"
    },
    {
     "data": {
      "text/plain": [
       "Text(0.5, 1.0, 'Consumption Timeline')"
      ]
     },
     "execution_count": 6,
     "metadata": {},
     "output_type": "execute_result"
    },
    {
     "data": {
      "text/plain": [
       "Text(0.5, 0, 'Year')"
      ]
     },
     "execution_count": 6,
     "metadata": {},
     "output_type": "execute_result"
    },
    {
     "data": {
      "text/plain": [
       "Text(0, 0.5, 'kg/capita/year')"
      ]
     },
     "execution_count": 6,
     "metadata": {},
     "output_type": "execute_result"
    },
    {
     "data": {
      "text/plain": [
       "([<matplotlib.axis.XTick at 0x122652090>,\n",
       "  <matplotlib.axis.XTick at 0x122652050>,\n",
       "  <matplotlib.axis.XTick at 0x122660790>,\n",
       "  <matplotlib.axis.XTick at 0x12267f910>,\n",
       "  <matplotlib.axis.XTick at 0x12267ff50>,\n",
       "  <matplotlib.axis.XTick at 0x12267fa10>,\n",
       "  <matplotlib.axis.XTick at 0x1226842d0>,\n",
       "  <matplotlib.axis.XTick at 0x122684b50>,\n",
       "  <matplotlib.axis.XTick at 0x12264fbd0>,\n",
       "  <matplotlib.axis.XTick at 0x12268c990>,\n",
       "  <matplotlib.axis.XTick at 0x12268cc50>,\n",
       "  <matplotlib.axis.XTick at 0x122697550>,\n",
       "  <matplotlib.axis.XTick at 0x12268cc10>],\n",
       " [Text(0, 0, '1960'),\n",
       "  Text(0, 0, '1965'),\n",
       "  Text(0, 0, '1970'),\n",
       "  Text(0, 0, '1975'),\n",
       "  Text(0, 0, '1980'),\n",
       "  Text(0, 0, '1985'),\n",
       "  Text(0, 0, '1990'),\n",
       "  Text(0, 0, '1995'),\n",
       "  Text(0, 0, '2000'),\n",
       "  Text(0, 0, '2005'),\n",
       "  Text(0, 0, '2010'),\n",
       "  Text(0, 0, '2015'),\n",
       "  Text(0, 0, '2020')])"
      ]
     },
     "execution_count": 6,
     "metadata": {},
     "output_type": "execute_result"
    },
    {
     "data": {
      "image/png": "[encoded data removed]",
      "text/plain": [
       "<Figure size 432x288 with 1 Axes>"
      ]
     },
     "metadata": {
      "needs_background": "light"
     },
     "output_type": "display_data"
    }
   ],
   "source": [
    "consumption_time = consumption[['Year', 'Fish, Seafood- Food supply quantity (kg/capita/yr) (FAO, 2020)']]\n",
    "\n",
    "df2 = consumption_time.groupby(['Year']).sum()['Fish, Seafood- Food supply quantity (kg/capita/yr) (FAO, 2020)'] \n",
    "df2.plot(marker=\"o\")\n",
    "mtpl.pyplot.xticks(rotation=45)\n",
    "mtpl.pyplot.title('Consumption Timeline')\n",
    "mtpl.pyplot.xlabel('Year') \n",
    "mtpl.pyplot.ylabel('kg/capita/year')\n",
    "mtpl.pyplot.grid(True)\n",
    "x = [1960, 1965, 1970,1975,1980,1985,1990,1995,2000,2005,2010,2015,2020]\n",
    "mtpl.pyplot.xticks(x,x)\n",
    "\n"
   ]
  },
  {
   "cell_type": "markdown",
   "metadata": {},
   "source": [
    "The consumption of seafood is increasing over time and of course this relates to the worldwide population increase and also the number of people who are choosing to make their main source of protein the seafood, mainly fish.\n",
    "\n",
    "In 2014 though we can see a very sharp decrease in the consumption from 4000-4100 to 3300-3400 kg/capita/yr and it continues to be on the decline after that as well.\n"
   ]
  },
  {
   "cell_type": "markdown",
   "metadata": {},
   "source": [
    "## Consumption of seafood related data (Full TreeMap)"
   ]
  },
  {
   "cell_type": "code",
   "execution_count": 30,
   "metadata": {},
   "outputs": [
    {
     "data": {
      "application/vnd.plotly.v1+json": {
       "config": {
        "plotlyServerURL": "https://plot.ly"
       },
       "data": [
        {
         "branchvalues": "total",
         "domain": {
          "x": [
           0,
           1
          ],
          "y": [
           0,
           1
          ]
         },
         "hovertemplate": "labels=%{label}<br>Fish, Seafood- Food supply quantity (kg/capita/yr) (FAO, 2020)=%{value}<br>parent=%{parent}<br>id=%{id}<extra></extra>",
         "ids": [
          "Afghanistan",
          "Albania",
          "Algeria",
          "Angola",
          "Antigua and Barbuda",
          "Argentina",
          "Armenia",
          "Australia",
          "Austria",
          "Azerbaijan",
          "Bahamas",
          "Bangladesh",
          "Barbados",
          "Belarus",
          "Belgium",
          "Belize",
          "Benin",
          "Bermuda",
          "Bolivia",
          "Bosnia and Herzegovina",
          "Botswana",
          "Brazil",
          "Brunei",
          "Bulgaria",
          "Burkina Faso",
          "Cambodia",
          "Cameroon",
          "Canada",
          "Cape Verde",
          "Central African Republic",
          "Chad",
          "Chile",
          "China",
          "Colombia",
          "Congo",
          "Costa Rica",
          "Cote d'Ivoire",
          "Croatia",
          "Cuba",
          "Cyprus",
          "Czechia",
          "Czechoslovakia",
          "Denmark",
          "Djibouti",
          "Dominica",
          "Dominican Republic",
          "Ecuador",
          "Egypt",
          "El Salvador",
          "Estonia",
          "Eswatini",
          "Ethiopia",
          "Fiji",
          "Finland",
          "France",
          "French Polynesia",
          "Gabon",
          "Gambia",
          "Georgia",
          "Germany",
          "Ghana",
          "Greece",
          "Grenada",
          "Guatemala",
          "Guinea",
          "Guinea-Bissau",
          "Guyana",
          "Haiti",
          "Honduras",
          "Hong Kong",
          "Hungary",
          "Iceland",
          "India",
          "Indonesia",
          "Iran",
          "Iraq",
          "Ireland",
          "Israel",
          "Italy",
          "Jamaica",
          "Japan",
          "Jordan",
          "Kazakhstan",
          "Kenya",
          "Kiribati",
          "Kuwait",
          "Kyrgyzstan",
          "Laos",
          "Latvia",
          "Lebanon",
          "Lesotho",
          "Liberia",
          "Lithuania",
          "Luxembourg",
          "Macao",
          "Madagascar",
          "Malawi",
          "Malaysia",
          "Maldives",
          "Mali",
          "Malta",
          "Mauritania",
          "Mauritius",
          "Melanesia",
          "Mexico",
          "Moldova",
          "Mongolia",
          "Montenegro",
          "Morocco",
          "Mozambique",
          "Myanmar",
          "Namibia",
          "Nepal",
          "Netherlands",
          "New Caledonia",
          "New Zealand",
          "Nicaragua",
          "Niger",
          "Nigeria",
          "North Korea",
          "North Macedonia",
          "Norway",
          "Oman",
          "Pakistan",
          "Panama",
          "Paraguay",
          "Peru",
          "Philippines",
          "Poland",
          "Polynesia",
          "Portugal",
          "Romania",
          "Russia",
          "Rwanda",
          "Saint Kitts and Nevis",
          "Saint Lucia",
          "Saint Vincent and the Grenadines",
          "Samoa",
          "Sao Tome and Principe",
          "Saudi Arabia",
          "Senegal",
          "Serbia",
          "Sierra Leone",
          "Slovakia",
          "Slovenia",
          "Solomon Islands",
          "South Africa",
          "South Korea",
          "Spain",
          "Sri Lanka",
          "Sudan",
          "Suriname",
          "Sweden",
          "Switzerland",
          "Taiwan",
          "Tajikistan",
          "Tanzania",
          "Thailand",
          "Timor",
          "Togo",
          "Trinidad and Tobago",
          "Tunisia",
          "Turkey",
          "Turkmenistan",
          "Uganda",
          "Ukraine",
          "United Arab Emirates",
          "United Kingdom",
          "United States",
          "Uruguay",
          "Uzbekistan",
          "Vanuatu",
          "Venezuela",
          "Vietnam",
          "Yemen",
          "Yugoslavia",
          "Zambia",
          "Zimbabwe"
         ],
         "labels": [
          "Afghanistan",
          "Albania",
          "Algeria",
          "Angola",
          "Antigua and Barbuda",
          "Argentina",
          "Armenia",
          "Australia",
          "Austria",
          "Azerbaijan",
          "Bahamas",
          "Bangladesh",
          "Barbados",
          "Belarus",
          "Belgium",
          "Belize",
          "Benin",
          "Bermuda",
          "Bolivia",
          "Bosnia and Herzegovina",
          "Botswana",
          "Brazil",
          "Brunei",
          "Bulgaria",
          "Burkina Faso",
          "Cambodia",
          "Cameroon",
          "Canada",
          "Cape Verde",
          "Central African Republic",
          "Chad",
          "Chile",
          "China",
          "Colombia",
          "Congo",
          "Costa Rica",
          "Cote d'Ivoire",
          "Croatia",
          "Cuba",
          "Cyprus",
          "Czechia",
          "Czechoslovakia",
          "Denmark",
          "Djibouti",
          "Dominica",
          "Dominican Republic",
          "Ecuador",
          "Egypt",
          "El Salvador",
          "Estonia",
          "Eswatini",
          "Ethiopia",
          "Fiji",
          "Finland",
          "France",
          "French Polynesia",
          "Gabon",
          "Gambia",
          "Georgia",
          "Germany",
          "Ghana",
          "Greece",
          "Grenada",
          "Guatemala",
          "Guinea",
          "Guinea-Bissau",
          "Guyana",
          "Haiti",
          "Honduras",
          "Hong Kong",
          "Hungary",
          "Iceland",
          "India",
          "Indonesia",
          "Iran",
          "Iraq",
          "Ireland",
          "Israel",
          "Italy",
          "Jamaica",
          "Japan",
          "Jordan",
          "Kazakhstan",
          "Kenya",
          "Kiribati",
          "Kuwait",
          "Kyrgyzstan",
          "Laos",
          "Latvia",
          "Lebanon",
          "Lesotho",
          "Liberia",
          "Lithuania",
          "Luxembourg",
          "Macao",
          "Madagascar",
          "Malawi",
          "Malaysia",
          "Maldives",
          "Mali",
          "Malta",
          "Mauritania",
          "Mauritius",
          "Melanesia",
          "Mexico",
          "Moldova",
          "Mongolia",
          "Montenegro",
          "Morocco",
          "Mozambique",
          "Myanmar",
          "Namibia",
          "Nepal",
          "Netherlands",
          "New Caledonia",
          "New Zealand",
          "Nicaragua",
          "Niger",
          "Nigeria",
          "North Korea",
          "North Macedonia",
          "Norway",
          "Oman",
          "Pakistan",
          "Panama",
          "Paraguay",
          "Peru",
          "Philippines",
          "Poland",
          "Polynesia",
          "Portugal",
          "Romania",
          "Russia",
          "Rwanda",
          "Saint Kitts and Nevis",
          "Saint Lucia",
          "Saint Vincent and the Grenadines",
          "Samoa",
          "Sao Tome and Principe",
          "Saudi Arabia",
          "Senegal",
          "Serbia",
          "Sierra Leone",
          "Slovakia",
          "Slovenia",
          "Solomon Islands",
          "South Africa",
          "South Korea",
          "Spain",
          "Sri Lanka",
          "Sudan",
          "Suriname",
          "Sweden",
          "Switzerland",
          "Taiwan",
          "Tajikistan",
          "Tanzania",
          "Thailand",
          "Timor",
          "Togo",
          "Trinidad and Tobago",
          "Tunisia",
          "Turkey",
          "Turkmenistan",
          "Uganda",
          "Ukraine",
          "United Arab Emirates",
          "United Kingdom",
          "United States",
          "Uruguay",
          "Uzbekistan",
          "Vanuatu",
          "Venezuela",
          "Vietnam",
          "Yemen",
          "Yugoslavia",
          "Zambia",
          "Zimbabwe"
         ],
         "name": "",
         "parents": [
          "",
          "",
          "",
          "",
          "",
          "",
          "",
          "",
          "",
          "",
          "",
          "",
          "",
          "",
          "",
          "",
          "",
          "",
          "",
          "",
          "",
          "",
          "",
          "",
          "",
          "",
          "",
          "",
          "",
          "",
          "",
          "",
          "",
          "",
          "",
          "",
          "",
          "",
          "",
          "",
          "",
          "",
          "",
          "",
          "",
          "",
          "",
          "",
          "",
          "",
          "",
          "",
          "",
          "",
          "",
          "",
          "",
          "",
          "",
          "",
          "",
          "",
          "",
          "",
          "",
          "",
          "",
          "",
          "",
          "",
          "",
          "",
          "",
          "",
          "",
          "",
          "",
          "",
          "",
          "",
          "",
          "",
          "",
          "",
          "",
          "",
          "",
          "",
          "",
          "",
          "",
          "",
          "",
          "",
          "",
          "",
          "",
          "",
          "",
          "",
          "",
          "",
          "",
          "",
          "",
          "",
          "",
          "",
          "",
          "",
          "",
          "",
          "",
          "",
          "",
          "",
          "",
          "",
          "",
          "",
          "",
          "",
          "",
          "",
          "",
          "",
          "",
          "",
          "",
          "",
          "",
          "",
          "",
          "",
          "",
          "",
          "",
          "",
          "",
          "",
          "",
          "",
          "",
          "",
          "",
          "",
          "",
          "",
          "",
          "",
          "",
          "",
          "",
          "",
          "",
          "",
          "",
          "",
          "",
          "",
          "",
          "",
          "",
          "",
          "",
          "",
          "",
          "",
          "",
          "",
          "",
          "",
          "",
          "",
          "",
          "",
          "",
          ""
         ],
         "textinfo": "label+text+value",
         "type": "treemap",
         "values": [
          4.460000000000001,
          188.70000000000002,
          181.68999999999997,
          832.9000000000002,
          2450.4300000000007,
          386.6200000000001,
          62.36000000000001,
          1074.96,
          543.97,
          52.60999999999999,
          1291.01,
          676.25,
          1792.7100000000003,
          322.58000000000004,
          439.48,
          602.1499999999999,
          666.7799999999999,
          2139.4900000000002,
          91.99000000000001,
          94.71000000000001,
          164.88,
          389.91,
          1811.62,
          323.1700000000001,
          140.06,
          957.1100000000001,
          711.7199999999998,
          1178.6000000000001,
          847.4699999999999,
          310.2099999999999,
          271.78999999999996,
          815.3599999999997,
          876.1099999999998,
          242.28000000000006,
          1464.9399999999998,
          371.58,
          960.1500000000002,
          320.8,
          739.1800000000001,
          809.6700000000002,
          230.28000000000003,
          210.54999999999998,
          1238.5800000000004,
          130.06000000000003,
          1505.8599999999997,
          455.4,
          462.9200000000001,
          574.73,
          195.98999999999998,
          432.73,
          99.32,
          5.65,
          1707.97,
          1652.8599999999994,
          1592.6100000000001,
          2419.8400000000006,
          1994.5600000000002,
          1148.62,
          140.95999999999998,
          706.88,
          1467.1500000000003,
          1076.1100000000001,
          1733.0000000000002,
          64.63,
          422.4499999999999,
          159.36999999999998,
          2032.8700000000006,
          166.90000000000003,
          141.23000000000002,
          3144.6000000000004,
          245.74000000000007,
          4823.1500000000015,
          222.94999999999993,
          1007.21,
          232.93999999999994,
          116.68,
          922.5499999999998,
          1133.7200000000003,
          1106.3,
          1400.51,
          3496.800000000001,
          214.95999999999998,
          97.5,
          227.63999999999996,
          3889.640000000001,
          629.98,
          34.99,
          630.9199999999998,
          552.3100000000001,
          296.8999999999999,
          39.11999999999999,
          524.4800000000001,
          901.2900000000001,
          532,
          1974.9800000000002,
          391.41,
          444.21,
          2547.0699999999993,
          6888.5099999999975,
          549.77,
          1171.4400000000003,
          500.38,
          990.5500000000004,
          1680.2300000000005,
          498.1999999999999,
          218.09000000000006,
          30.99999999999999,
          137.03,
          471.69000000000005,
          248.73000000000002,
          1244.2999999999997,
          609.9699999999999,
          54.379999999999995,
          903.46,
          1037.0199999999998,
          1161.53,
          145.67999999999998,
          72.66000000000001,
          524.3800000000001,
          1285.1100000000001,
          128.51,
          2623.4300000000003,
          737.3299999999998,
          106.79999999999998,
          683.2000000000003,
          155.45999999999998,
          1085.4599999999998,
          1810.9600000000003,
          624.1200000000001,
          2157.7399999999993,
          3053.250000000001,
          294.84999999999997,
          512.49,
          68.89,
          1805.4499999999991,
          1407.4499999999998,
          862.9499999999998,
          2304.69,
          1370.1299999999999,
          410.3,
          1394.3900000000006,
          72.46000000000001,
          1182.1299999999999,
          193.73,
          230.13000000000002,
          2532.7500000000005,
          450.75000000000006,
          2436.1399999999994,
          2093.8099999999995,
          1033.2600000000002,
          6.08,
          966.8700000000001,
          1622.8600000000001,
          737.08,
          1932.6400000000006,
          7.52,
          566.0900000000001,
          1312.5700000000002,
          92.55999999999999,
          577.36,
          871.6500000000001,
          526.0699999999999,
          352.1499999999999,
          86.64,
          682.8499999999999,
          332.87,
          1239.13,
          1109.0499999999997,
          1076.8500000000004,
          327.40000000000003,
          20.04,
          1984.6600000000008,
          741.5800000000002,
          1073.33,
          290.31999999999994,
          92.94000000000001,
          558.5799999999999,
          120.95999999999997
         ]
        }
       ],
       "layout": {
        "height": 400,
        "legend": {
         "tracegroupgap": 0
        },
        "margin": {
         "b": 5,
         "l": 5,
         "r": 5,
         "t": 5
        },
        "template": {
         "data": {
          "bar": [
           {
            "error_x": {
             "color": "#2a3f5f"
            },
            "error_y": {
             "color": "#2a3f5f"
            },
            "marker": {
             "line": {
              "color": "#E5ECF6",
              "width": 0.5
             }
            },
            "type": "bar"
           }
          ],
          "barpolar": [
           {
            "marker": {
             "line": {
              "color": "#E5ECF6",
              "width": 0.5
             }
            },
            "type": "barpolar"
           }
          ],
          "carpet": [
           {
            "aaxis": {
             "endlinecolor": "#2a3f5f",
             "gridcolor": "white",
             "linecolor": "white",
             "minorgridcolor": "white",
             "startlinecolor": "#2a3f5f"
            },
            "baxis": {
             "endlinecolor": "#2a3f5f",
             "gridcolor": "white",
             "linecolor": "white",
             "minorgridcolor": "white",
             "startlinecolor": "#2a3f5f"
            },
            "type": "carpet"
           }
          ],
          "choropleth": [
           {
            "colorbar": {
             "outlinewidth": 0,
             "ticks": ""
            },
            "type": "choropleth"
           }
          ],
          "contour": [
           {
            "colorbar": {
             "outlinewidth": 0,
             "ticks": ""
            },
            "colorscale": [
             [
              0,
              "#0d0887"
             ],
             [
              0.1111111111111111,
              "#46039f"
             ],
             [
              0.2222222222222222,
              "#7201a8"
             ],
             [
              0.3333333333333333,
              "#9c179e"
             ],
             [
              0.4444444444444444,
              "#bd3786"
             ],
             [
              0.5555555555555556,
              "#d8576b"
             ],
             [
              0.6666666666666666,
              "#ed7953"
             ],
             [
              0.7777777777777778,
              "#fb9f3a"
             ],
             [
              0.8888888888888888,
              "#fdca26"
             ],
             [
              1,
              "#f0f921"
             ]
            ],
            "type": "contour"
           }
          ],
          "contourcarpet": [
           {
            "colorbar": {
             "outlinewidth": 0,
             "ticks": ""
            },
            "type": "contourcarpet"
           }
          ],
          "heatmap": [
           {
            "colorbar": {
             "outlinewidth": 0,
             "ticks": ""
            },
            "colorscale": [
             [
              0,
              "#0d0887"
             ],
             [
              0.1111111111111111,
              "#46039f"
             ],
             [
              0.2222222222222222,
              "#7201a8"
             ],
             [
              0.3333333333333333,
              "#9c179e"
             ],
             [
              0.4444444444444444,
              "#bd3786"
             ],
             [
              0.5555555555555556,
              "#d8576b"
             ],
             [
              0.6666666666666666,
              "#ed7953"
             ],
             [
              0.7777777777777778,
              "#fb9f3a"
             ],
             [
              0.8888888888888888,
              "#fdca26"
             ],
             [
              1,
              "#f0f921"
             ]
            ],
            "type": "heatmap"
           }
          ],
          "heatmapgl": [
           {
            "colorbar": {
             "outlinewidth": 0,
             "ticks": ""
            },
            "colorscale": [
             [
              0,
              "#0d0887"
             ],
             [
              0.1111111111111111,
              "#46039f"
             ],
             [
              0.2222222222222222,
              "#7201a8"
             ],
             [
              0.3333333333333333,
              "#9c179e"
             ],
             [
              0.4444444444444444,
              "#bd3786"
             ],
             [
              0.5555555555555556,
              "#d8576b"
             ],
             [
              0.6666666666666666,
              "#ed7953"
             ],
             [
              0.7777777777777778,
              "#fb9f3a"
             ],
             [
              0.8888888888888888,
              "#fdca26"
             ],
             [
              1,
              "#f0f921"
             ]
            ],
            "type": "heatmapgl"
           }
          ],
          "histogram": [
           {
            "marker": {
             "colorbar": {
              "outlinewidth": 0,
              "ticks": ""
             }
            },
            "type": "histogram"
           }
          ],
          "histogram2d": [
           {
            "colorbar": {
             "outlinewidth": 0,
             "ticks": ""
            },
            "colorscale": [
             [
              0,
              "#0d0887"
             ],
             [
              0.1111111111111111,
              "#46039f"
             ],
             [
              0.2222222222222222,
              "#7201a8"
             ],
             [
              0.3333333333333333,
              "#9c179e"
             ],
             [
              0.4444444444444444,
              "#bd3786"
             ],
             [
              0.5555555555555556,
              "#d8576b"
             ],
             [
              0.6666666666666666,
              "#ed7953"
             ],
             [
              0.7777777777777778,
              "#fb9f3a"
             ],
             [
              0.8888888888888888,
              "#fdca26"
             ],
             [
              1,
              "#f0f921"
             ]
            ],
            "type": "histogram2d"
           }
          ],
          "histogram2dcontour": [
           {
            "colorbar": {
             "outlinewidth": 0,
             "ticks": ""
            },
            "colorscale": [
             [
              0,
              "#0d0887"
             ],
             [
              0.1111111111111111,
              "#46039f"
             ],
             [
              0.2222222222222222,
              "#7201a8"
             ],
             [
              0.3333333333333333,
              "#9c179e"
             ],
             [
              0.4444444444444444,
              "#bd3786"
             ],
             [
              0.5555555555555556,
              "#d8576b"
             ],
             [
              0.6666666666666666,
              "#ed7953"
             ],
             [
              0.7777777777777778,
              "#fb9f3a"
             ],
             [
              0.8888888888888888,
              "#fdca26"
             ],
             [
              1,
              "#f0f921"
             ]
            ],
            "type": "histogram2dcontour"
           }
          ],
          "mesh3d": [
           {
            "colorbar": {
             "outlinewidth": 0,
             "ticks": ""
            },
            "type": "mesh3d"
           }
          ],
          "parcoords": [
           {
            "line": {
             "colorbar": {
              "outlinewidth": 0,
              "ticks": ""
             }
            },
            "type": "parcoords"
           }
          ],
          "pie": [
           {
            "automargin": true,
            "type": "pie"
           }
          ],
          "scatter": [
           {
            "marker": {
             "colorbar": {
              "outlinewidth": 0,
              "ticks": ""
             }
            },
            "type": "scatter"
           }
          ],
          "scatter3d": [
           {
            "line": {
             "colorbar": {
              "outlinewidth": 0,
              "ticks": ""
             }
            },
            "marker": {
             "colorbar": {
              "outlinewidth": 0,
              "ticks": ""
             }
            },
            "type": "scatter3d"
           }
          ],
          "scattercarpet": [
           {
            "marker": {
             "colorbar": {
              "outlinewidth": 0,
              "ticks": ""
             }
            },
            "type": "scattercarpet"
           }
          ],
          "scattergeo": [
           {
            "marker": {
             "colorbar": {
              "outlinewidth": 0,
              "ticks": ""
             }
            },
            "type": "scattergeo"
           }
          ],
          "scattergl": [
           {
            "marker": {
             "colorbar": {
              "outlinewidth": 0,
              "ticks": ""
             }
            },
            "type": "scattergl"
           }
          ],
          "scattermapbox": [
           {
            "marker": {
             "colorbar": {
              "outlinewidth": 0,
              "ticks": ""
             }
            },
            "type": "scattermapbox"
           }
          ],
          "scatterpolar": [
           {
            "marker": {
             "colorbar": {
              "outlinewidth": 0,
              "ticks": ""
             }
            },
            "type": "scatterpolar"
           }
          ],
          "scatterpolargl": [
           {
            "marker": {
             "colorbar": {
              "outlinewidth": 0,
              "ticks": ""
             }
            },
            "type": "scatterpolargl"
           }
          ],
          "scatterternary": [
           {
            "marker": {
             "colorbar": {
              "outlinewidth": 0,
              "ticks": ""
             }
            },
            "type": "scatterternary"
           }
          ],
          "surface": [
           {
            "colorbar": {
             "outlinewidth": 0,
             "ticks": ""
            },
            "colorscale": [
             [
              0,
              "#0d0887"
             ],
             [
              0.1111111111111111,
              "#46039f"
             ],
             [
              0.2222222222222222,
              "#7201a8"
             ],
             [
              0.3333333333333333,
              "#9c179e"
             ],
             [
              0.4444444444444444,
              "#bd3786"
             ],
             [
              0.5555555555555556,
              "#d8576b"
             ],
             [
              0.6666666666666666,
              "#ed7953"
             ],
             [
              0.7777777777777778,
              "#fb9f3a"
             ],
             [
              0.8888888888888888,
              "#fdca26"
             ],
             [
              1,
              "#f0f921"
             ]
            ],
            "type": "surface"
           }
          ],
          "table": [
           {
            "cells": {
             "fill": {
              "color": "#EBF0F8"
             },
             "line": {
              "color": "white"
             }
            },
            "header": {
             "fill": {
              "color": "#C8D4E3"
             },
             "line": {
              "color": "white"
             }
            },
            "type": "table"
           }
          ]
         },
         "layout": {
          "annotationdefaults": {
           "arrowcolor": "#2a3f5f",
           "arrowhead": 0,
           "arrowwidth": 1
          },
          "coloraxis": {
           "colorbar": {
            "outlinewidth": 0,
            "ticks": ""
           }
          },
          "colorscale": {
           "diverging": [
            [
             0,
             "#8e0152"
            ],
            [
             0.1,
             "#c51b7d"
            ],
            [
             0.2,
             "#de77ae"
            ],
            [
             0.3,
             "#f1b6da"
            ],
            [
             0.4,
             "#fde0ef"
            ],
            [
             0.5,
             "#f7f7f7"
            ],
            [
             0.6,
             "#e6f5d0"
            ],
            [
             0.7,
             "#b8e186"
            ],
            [
             0.8,
             "#7fbc41"
            ],
            [
             0.9,
             "#4d9221"
            ],
            [
             1,
             "#276419"
            ]
           ],
           "sequential": [
            [
             0,
             "#0d0887"
            ],
            [
             0.1111111111111111,
             "#46039f"
            ],
            [
             0.2222222222222222,
             "#7201a8"
            ],
            [
             0.3333333333333333,
             "#9c179e"
            ],
            [
             0.4444444444444444,
             "#bd3786"
            ],
            [
             0.5555555555555556,
             "#d8576b"
            ],
            [
             0.6666666666666666,
             "#ed7953"
            ],
            [
             0.7777777777777778,
             "#fb9f3a"
            ],
            [
             0.8888888888888888,
             "#fdca26"
            ],
            [
             1,
             "#f0f921"
            ]
           ],
           "sequentialminus": [
            [
             0,
             "#0d0887"
            ],
            [
             0.1111111111111111,
             "#46039f"
            ],
            [
             0.2222222222222222,
             "#7201a8"
            ],
            [
             0.3333333333333333,
             "#9c179e"
            ],
            [
             0.4444444444444444,
             "#bd3786"
            ],
            [
             0.5555555555555556,
             "#d8576b"
            ],
            [
             0.6666666666666666,
             "#ed7953"
            ],
            [
             0.7777777777777778,
             "#fb9f3a"
            ],
            [
             0.8888888888888888,
             "#fdca26"
            ],
            [
             1,
             "#f0f921"
            ]
           ]
          },
          "colorway": [
           "#636efa",
           "#EF553B",
           "#00cc96",
           "#ab63fa",
           "#FFA15A",
           "#19d3f3",
           "#FF6692",
           "#B6E880",
           "#FF97FF",
           "#FECB52"
          ],
          "font": {
           "color": "#2a3f5f"
          },
          "geo": {
           "bgcolor": "white",
           "lakecolor": "white",
           "landcolor": "#E5ECF6",
           "showlakes": true,
           "showland": true,
           "subunitcolor": "white"
          },
          "hoverlabel": {
           "align": "left"
          },
          "hovermode": "closest",
          "mapbox": {
           "style": "light"
          },
          "paper_bgcolor": "white",
          "plot_bgcolor": "#E5ECF6",
          "polar": {
           "angularaxis": {
            "gridcolor": "white",
            "linecolor": "white",
            "ticks": ""
           },
           "bgcolor": "#E5ECF6",
           "radialaxis": {
            "gridcolor": "white",
            "linecolor": "white",
            "ticks": ""
           }
          },
          "scene": {
           "xaxis": {
            "backgroundcolor": "#E5ECF6",
            "gridcolor": "white",
            "gridwidth": 2,
            "linecolor": "white",
            "showbackground": true,
            "ticks": "",
            "zerolinecolor": "white"
           },
           "yaxis": {
            "backgroundcolor": "#E5ECF6",
            "gridcolor": "white",
            "gridwidth": 2,
            "linecolor": "white",
            "showbackground": true,
            "ticks": "",
            "zerolinecolor": "white"
           },
           "zaxis": {
            "backgroundcolor": "#E5ECF6",
            "gridcolor": "white",
            "gridwidth": 2,
            "linecolor": "white",
            "showbackground": true,
            "ticks": "",
            "zerolinecolor": "white"
           }
          },
          "shapedefaults": {
           "line": {
            "color": "#2a3f5f"
           }
          },
          "ternary": {
           "aaxis": {
            "gridcolor": "white",
            "linecolor": "white",
            "ticks": ""
           },
           "baxis": {
            "gridcolor": "white",
            "linecolor": "white",
            "ticks": ""
           },
           "bgcolor": "#E5ECF6",
           "caxis": {
            "gridcolor": "white",
            "linecolor": "white",
            "ticks": ""
           }
          },
          "title": {
           "x": 0.05
          },
          "xaxis": {
           "automargin": true,
           "gridcolor": "white",
           "linecolor": "white",
           "ticks": "",
           "title": {
            "standoff": 15
           },
           "zerolinecolor": "white",
           "zerolinewidth": 2
          },
          "yaxis": {
           "automargin": true,
           "gridcolor": "white",
           "linecolor": "white",
           "ticks": "",
           "title": {
            "standoff": 15
           },
           "zerolinecolor": "white",
           "zerolinewidth": 2
          }
         }
        },
        "treemapcolorway": [
         "#fae588",
         "#f79d65",
         "#f9dc5c",
         "#e8ac65",
         "#e76f51",
         "#ef233c",
         "#b7094c"
        ],
        "width": 800
       }
      }
     },
     "metadata": {},
     "output_type": "display_data"
    }
   ],
   "source": [
    "colors=['#fae588','#f79d65','#f9dc5c','#e8ac65','#e76f51','#ef233c','#b7094c']\n",
    "consumption_Entity = consumption[['Entity','Fish, Seafood- Food supply quantity (kg/capita/yr) (FAO, 2020)']]\n",
    "fig = px.treemap(data_frame=consumption_Entity,path=['Entity'],values='Fish, Seafood- Food supply quantity (kg/capita/yr) (FAO, 2020)',width=800, height=400,hover_data=None, hover_name=None)\n",
    "fig.data[0].textinfo = 'label+text+value'\n",
    "fig.update_layout(\n",
    "    treemapcolorway = colors, #defines the colors in the treemap\n",
    "    margin = dict(t=5, l=5, r=5, b=5))\n"
   ]
  },
  {
   "cell_type": "markdown",
   "metadata": {},
   "source": [
    "## Consumption of seafood related data (Top 20 Countries TreeMap)"
   ]
  },
  {
   "cell_type": "code",
   "execution_count": 8,
   "metadata": {},
   "outputs": [
    {
     "data": {
      "application/vnd.plotly.v1+json": {
       "config": {
        "plotlyServerURL": "https://plot.ly"
       },
       "data": [
        {
         "branchvalues": "total",
         "domain": {
          "x": [
           0,
           1
          ],
          "y": [
           0,
           1
          ]
         },
         "hovertemplate": "labels=%{label}<br>Fish, Seafood- Food supply quantity (kg/capita/yr) (FAO, 2020)=%{value}<br>parent=%{parent}<br>id=%{id}<extra></extra>",
         "ids": [
          "Antigua and Barbuda",
          "Bermuda",
          "French Polynesia",
          "Gabon",
          "Guyana",
          "Hong Kong",
          "Iceland",
          "Japan",
          "Kiribati",
          "Macao",
          "Malaysia",
          "Maldives",
          "Norway",
          "Polynesia",
          "Portugal",
          "Samoa",
          "Solomon Islands",
          "South Korea",
          "Spain",
          "Vanuatu"
         ],
         "labels": [
          "Antigua and Barbuda",
          "Bermuda",
          "French Polynesia",
          "Gabon",
          "Guyana",
          "Hong Kong",
          "Iceland",
          "Japan",
          "Kiribati",
          "Macao",
          "Malaysia",
          "Maldives",
          "Norway",
          "Polynesia",
          "Portugal",
          "Samoa",
          "Solomon Islands",
          "South Korea",
          "Spain",
          "Vanuatu"
         ],
         "name": "",
         "parents": [
          "",
          "",
          "",
          "",
          "",
          "",
          "",
          "",
          "",
          "",
          "",
          "",
          "",
          "",
          "",
          "",
          "",
          "",
          "",
          ""
         ],
         "textinfo": "label+text+value",
         "type": "treemap",
         "values": [
          2450.4300000000007,
          2139.4900000000002,
          2419.8400000000006,
          1994.5600000000002,
          2032.8700000000006,
          3144.6000000000004,
          4823.1500000000015,
          3496.800000000001,
          3889.640000000001,
          1974.9800000000002,
          2547.0699999999993,
          6888.5099999999975,
          2623.4300000000003,
          2157.7399999999993,
          3053.250000000001,
          2304.69,
          2532.7500000000005,
          2436.1399999999994,
          2093.8099999999995,
          1984.6600000000008
         ]
        }
       ],
       "layout": {
        "height": 400,
        "legend": {
         "tracegroupgap": 0
        },
        "margin": {
         "b": 5,
         "l": 5,
         "r": 5,
         "t": 5
        },
        "template": {
         "data": {
          "bar": [
           {
            "error_x": {
             "color": "#2a3f5f"
            },
            "error_y": {
             "color": "#2a3f5f"
            },
            "marker": {
             "line": {
              "color": "#E5ECF6",
              "width": 0.5
             }
            },
            "type": "bar"
           }
          ],
          "barpolar": [
           {
            "marker": {
             "line": {
              "color": "#E5ECF6",
              "width": 0.5
             }
            },
            "type": "barpolar"
           }
          ],
          "carpet": [
           {
            "aaxis": {
             "endlinecolor": "#2a3f5f",
             "gridcolor": "white",
             "linecolor": "white",
             "minorgridcolor": "white",
             "startlinecolor": "#2a3f5f"
            },
            "baxis": {
             "endlinecolor": "#2a3f5f",
             "gridcolor": "white",
             "linecolor": "white",
             "minorgridcolor": "white",
             "startlinecolor": "#2a3f5f"
            },
            "type": "carpet"
           }
          ],
          "choropleth": [
           {
            "colorbar": {
             "outlinewidth": 0,
             "ticks": ""
            },
            "type": "choropleth"
           }
          ],
          "contour": [
           {
            "colorbar": {
             "outlinewidth": 0,
             "ticks": ""
            },
            "colorscale": [
             [
              0,
              "#0d0887"
             ],
             [
              0.1111111111111111,
              "#46039f"
             ],
             [
              0.2222222222222222,
              "#7201a8"
             ],
             [
              0.3333333333333333,
              "#9c179e"
             ],
             [
              0.4444444444444444,
              "#bd3786"
             ],
             [
              0.5555555555555556,
              "#d8576b"
             ],
             [
              0.6666666666666666,
              "#ed7953"
             ],
             [
              0.7777777777777778,
              "#fb9f3a"
             ],
             [
              0.8888888888888888,
              "#fdca26"
             ],
             [
              1,
              "#f0f921"
             ]
            ],
            "type": "contour"
           }
          ],
          "contourcarpet": [
           {
            "colorbar": {
             "outlinewidth": 0,
             "ticks": ""
            },
            "type": "contourcarpet"
           }
          ],
          "heatmap": [
           {
            "colorbar": {
             "outlinewidth": 0,
             "ticks": ""
            },
            "colorscale": [
             [
              0,
              "#0d0887"
             ],
             [
              0.1111111111111111,
              "#46039f"
             ],
             [
              0.2222222222222222,
              "#7201a8"
             ],
             [
              0.3333333333333333,
              "#9c179e"
             ],
             [
              0.4444444444444444,
              "#bd3786"
             ],
             [
              0.5555555555555556,
              "#d8576b"
             ],
             [
              0.6666666666666666,
              "#ed7953"
             ],
             [
              0.7777777777777778,
              "#fb9f3a"
             ],
             [
              0.8888888888888888,
              "#fdca26"
             ],
             [
              1,
              "#f0f921"
             ]
            ],
            "type": "heatmap"
           }
          ],
          "heatmapgl": [
           {
            "colorbar": {
             "outlinewidth": 0,
             "ticks": ""
            },
            "colorscale": [
             [
              0,
              "#0d0887"
             ],
             [
              0.1111111111111111,
              "#46039f"
             ],
             [
              0.2222222222222222,
              "#7201a8"
             ],
             [
              0.3333333333333333,
              "#9c179e"
             ],
             [
              0.4444444444444444,
              "#bd3786"
             ],
             [
              0.5555555555555556,
              "#d8576b"
             ],
             [
              0.6666666666666666,
              "#ed7953"
             ],
             [
              0.7777777777777778,
              "#fb9f3a"
             ],
             [
              0.8888888888888888,
              "#fdca26"
             ],
             [
              1,
              "#f0f921"
             ]
            ],
            "type": "heatmapgl"
           }
          ],
          "histogram": [
           {
            "marker": {
             "colorbar": {
              "outlinewidth": 0,
              "ticks": ""
             }
            },
            "type": "histogram"
           }
          ],
          "histogram2d": [
           {
            "colorbar": {
             "outlinewidth": 0,
             "ticks": ""
            },
            "colorscale": [
             [
              0,
              "#0d0887"
             ],
             [
              0.1111111111111111,
              "#46039f"
             ],
             [
              0.2222222222222222,
              "#7201a8"
             ],
             [
              0.3333333333333333,
              "#9c179e"
             ],
             [
              0.4444444444444444,
              "#bd3786"
             ],
             [
              0.5555555555555556,
              "#d8576b"
             ],
             [
              0.6666666666666666,
              "#ed7953"
             ],
             [
              0.7777777777777778,
              "#fb9f3a"
             ],
             [
              0.8888888888888888,
              "#fdca26"
             ],
             [
              1,
              "#f0f921"
             ]
            ],
            "type": "histogram2d"
           }
          ],
          "histogram2dcontour": [
           {
            "colorbar": {
             "outlinewidth": 0,
             "ticks": ""
            },
            "colorscale": [
             [
              0,
              "#0d0887"
             ],
             [
              0.1111111111111111,
              "#46039f"
             ],
             [
              0.2222222222222222,
              "#7201a8"
             ],
             [
              0.3333333333333333,
              "#9c179e"
             ],
             [
              0.4444444444444444,
              "#bd3786"
             ],
             [
              0.5555555555555556,
              "#d8576b"
             ],
             [
              0.6666666666666666,
              "#ed7953"
             ],
             [
              0.7777777777777778,
              "#fb9f3a"
             ],
             [
              0.8888888888888888,
              "#fdca26"
             ],
             [
              1,
              "#f0f921"
             ]
            ],
            "type": "histogram2dcontour"
           }
          ],
          "mesh3d": [
           {
            "colorbar": {
             "outlinewidth": 0,
             "ticks": ""
            },
            "type": "mesh3d"
           }
          ],
          "parcoords": [
           {
            "line": {
             "colorbar": {
              "outlinewidth": 0,
              "ticks": ""
             }
            },
            "type": "parcoords"
           }
          ],
          "pie": [
           {
            "automargin": true,
            "type": "pie"
           }
          ],
          "scatter": [
           {
            "marker": {
             "colorbar": {
              "outlinewidth": 0,
              "ticks": ""
             }
            },
            "type": "scatter"
           }
          ],
          "scatter3d": [
           {
            "line": {
             "colorbar": {
              "outlinewidth": 0,
              "ticks": ""
             }
            },
            "marker": {
             "colorbar": {
              "outlinewidth": 0,
              "ticks": ""
             }
            },
            "type": "scatter3d"
           }
          ],
          "scattercarpet": [
           {
            "marker": {
             "colorbar": {
              "outlinewidth": 0,
              "ticks": ""
             }
            },
            "type": "scattercarpet"
           }
          ],
          "scattergeo": [
           {
            "marker": {
             "colorbar": {
              "outlinewidth": 0,
              "ticks": ""
             }
            },
            "type": "scattergeo"
           }
          ],
          "scattergl": [
           {
            "marker": {
             "colorbar": {
              "outlinewidth": 0,
              "ticks": ""
             }
            },
            "type": "scattergl"
           }
          ],
          "scattermapbox": [
           {
            "marker": {
             "colorbar": {
              "outlinewidth": 0,
              "ticks": ""
             }
            },
            "type": "scattermapbox"
           }
          ],
          "scatterpolar": [
           {
            "marker": {
             "colorbar": {
              "outlinewidth": 0,
              "ticks": ""
             }
            },
            "type": "scatterpolar"
           }
          ],
          "scatterpolargl": [
           {
            "marker": {
             "colorbar": {
              "outlinewidth": 0,
              "ticks": ""
             }
            },
            "type": "scatterpolargl"
           }
          ],
          "scatterternary": [
           {
            "marker": {
             "colorbar": {
              "outlinewidth": 0,
              "ticks": ""
             }
            },
            "type": "scatterternary"
           }
          ],
          "surface": [
           {
            "colorbar": {
             "outlinewidth": 0,
             "ticks": ""
            },
            "colorscale": [
             [
              0,
              "#0d0887"
             ],
             [
              0.1111111111111111,
              "#46039f"
             ],
             [
              0.2222222222222222,
              "#7201a8"
             ],
             [
              0.3333333333333333,
              "#9c179e"
             ],
             [
              0.4444444444444444,
              "#bd3786"
             ],
             [
              0.5555555555555556,
              "#d8576b"
             ],
             [
              0.6666666666666666,
              "#ed7953"
             ],
             [
              0.7777777777777778,
              "#fb9f3a"
             ],
             [
              0.8888888888888888,
              "#fdca26"
             ],
             [
              1,
              "#f0f921"
             ]
            ],
            "type": "surface"
           }
          ],
          "table": [
           {
            "cells": {
             "fill": {
              "color": "#EBF0F8"
             },
             "line": {
              "color": "white"
             }
            },
            "header": {
             "fill": {
              "color": "#C8D4E3"
             },
             "line": {
              "color": "white"
             }
            },
            "type": "table"
           }
          ]
         },
         "layout": {
          "annotationdefaults": {
           "arrowcolor": "#2a3f5f",
           "arrowhead": 0,
           "arrowwidth": 1
          },
          "coloraxis": {
           "colorbar": {
            "outlinewidth": 0,
            "ticks": ""
           }
          },
          "colorscale": {
           "diverging": [
            [
             0,
             "#8e0152"
            ],
            [
             0.1,
             "#c51b7d"
            ],
            [
             0.2,
             "#de77ae"
            ],
            [
             0.3,
             "#f1b6da"
            ],
            [
             0.4,
             "#fde0ef"
            ],
            [
             0.5,
             "#f7f7f7"
            ],
            [
             0.6,
             "#e6f5d0"
            ],
            [
             0.7,
             "#b8e186"
            ],
            [
             0.8,
             "#7fbc41"
            ],
            [
             0.9,
             "#4d9221"
            ],
            [
             1,
             "#276419"
            ]
           ],
           "sequential": [
            [
             0,
             "#0d0887"
            ],
            [
             0.1111111111111111,
             "#46039f"
            ],
            [
             0.2222222222222222,
             "#7201a8"
            ],
            [
             0.3333333333333333,
             "#9c179e"
            ],
            [
             0.4444444444444444,
             "#bd3786"
            ],
            [
             0.5555555555555556,
             "#d8576b"
            ],
            [
             0.6666666666666666,
             "#ed7953"
            ],
            [
             0.7777777777777778,
             "#fb9f3a"
            ],
            [
             0.8888888888888888,
             "#fdca26"
            ],
            [
             1,
             "#f0f921"
            ]
           ],
           "sequentialminus": [
            [
             0,
             "#0d0887"
            ],
            [
             0.1111111111111111,
             "#46039f"
            ],
            [
             0.2222222222222222,
             "#7201a8"
            ],
            [
             0.3333333333333333,
             "#9c179e"
            ],
            [
             0.4444444444444444,
             "#bd3786"
            ],
            [
             0.5555555555555556,
             "#d8576b"
            ],
            [
             0.6666666666666666,
             "#ed7953"
            ],
            [
             0.7777777777777778,
             "#fb9f3a"
            ],
            [
             0.8888888888888888,
             "#fdca26"
            ],
            [
             1,
             "#f0f921"
            ]
           ]
          },
          "colorway": [
           "#636efa",
           "#EF553B",
           "#00cc96",
           "#ab63fa",
           "#FFA15A",
           "#19d3f3",
           "#FF6692",
           "#B6E880",
           "#FF97FF",
           "#FECB52"
          ],
          "font": {
           "color": "#2a3f5f"
          },
          "geo": {
           "bgcolor": "white",
           "lakecolor": "white",
           "landcolor": "#E5ECF6",
           "showlakes": true,
           "showland": true,
           "subunitcolor": "white"
          },
          "hoverlabel": {
           "align": "left"
          },
          "hovermode": "closest",
          "mapbox": {
           "style": "light"
          },
          "paper_bgcolor": "white",
          "plot_bgcolor": "#E5ECF6",
          "polar": {
           "angularaxis": {
            "gridcolor": "white",
            "linecolor": "white",
            "ticks": ""
           },
           "bgcolor": "#E5ECF6",
           "radialaxis": {
            "gridcolor": "white",
            "linecolor": "white",
            "ticks": ""
           }
          },
          "scene": {
           "xaxis": {
            "backgroundcolor": "#E5ECF6",
            "gridcolor": "white",
            "gridwidth": 2,
            "linecolor": "white",
            "showbackground": true,
            "ticks": "",
            "zerolinecolor": "white"
           },
           "yaxis": {
            "backgroundcolor": "#E5ECF6",
            "gridcolor": "white",
            "gridwidth": 2,
            "linecolor": "white",
            "showbackground": true,
            "ticks": "",
            "zerolinecolor": "white"
           },
           "zaxis": {
            "backgroundcolor": "#E5ECF6",
            "gridcolor": "white",
            "gridwidth": 2,
            "linecolor": "white",
            "showbackground": true,
            "ticks": "",
            "zerolinecolor": "white"
           }
          },
          "shapedefaults": {
           "line": {
            "color": "#2a3f5f"
           }
          },
          "ternary": {
           "aaxis": {
            "gridcolor": "white",
            "linecolor": "white",
            "ticks": ""
           },
           "baxis": {
            "gridcolor": "white",
            "linecolor": "white",
            "ticks": ""
           },
           "bgcolor": "#E5ECF6",
           "caxis": {
            "gridcolor": "white",
            "linecolor": "white",
            "ticks": ""
           }
          },
          "title": {
           "x": 0.05
          },
          "xaxis": {
           "automargin": true,
           "gridcolor": "white",
           "linecolor": "white",
           "ticks": "",
           "title": {
            "standoff": 15
           },
           "zerolinecolor": "white",
           "zerolinewidth": 2
          },
          "yaxis": {
           "automargin": true,
           "gridcolor": "white",
           "linecolor": "white",
           "ticks": "",
           "title": {
            "standoff": 15
           },
           "zerolinecolor": "white",
           "zerolinewidth": 2
          }
         }
        },
        "treemapcolorway": [
         "#fae588",
         "#f79d65",
         "#f9dc5c",
         "#e8ac65",
         "#e76f51",
         "#ef233c",
         "#b7094c"
        ],
        "width": 800
       }
      }
     },
     "metadata": {},
     "output_type": "display_data"
    }
   ],
   "source": [
    "colors=['#fae588','#f79d65','#f9dc5c','#e8ac65','#e76f51','#ef233c','#b7094c']\n",
    "consumption_Entity_top20 = consumption[['Entity','Fish, Seafood- Food supply quantity (kg/capita/yr) (FAO, 2020)']]\n",
    "consumption_Entity_top20 = consumption_Entity_top20.groupby('Entity', as_index=False).agg({'Fish, Seafood- Food supply quantity (kg/capita/yr) (FAO, 2020)':'sum'})\n",
    "consumption_Entity_top20 = consumption_Entity_top20.sort_values('Fish, Seafood- Food supply quantity (kg/capita/yr) (FAO, 2020)',ascending=False).head(20)\n",
    "fig2 = px.treemap(data_frame=consumption_Entity_top20,path=['Entity'],values='Fish, Seafood- Food supply quantity (kg/capita/yr) (FAO, 2020)',width=800, height=400)\n",
    "fig2.data[0].textinfo = 'label+text+value'\n",
    "fig2.update_layout(\n",
    "    treemapcolorway = colors, #defines the colors in the treemap\n",
    "    margin = dict(t=5, l=5, r=5, b=5))\n"
   ]
  },
  {
   "cell_type": "markdown",
   "metadata": {},
   "source": [
    "The Maldives hold the most consumpton of seafood by 6,888.51 kg/capita/yr followed by Iceland and Kribati. It's interesting to see here that in the top 3 we can't find the biggest countries in the world like the United States, Russia or even China, instead we find countries that are islands with much less population with higher consumption of seafood."
   ]
  },
  {
   "cell_type": "markdown",
   "metadata": {},
   "source": [
    "## Consumption of seafood related data (BarChart)"
   ]
  },
  {
   "cell_type": "code",
   "execution_count": 9,
   "metadata": {},
   "outputs": [
    {
     "data": {
      "text/plain": [
       "Text(0.5, 1.0, 'Consumption of Top 20 Countries')"
      ]
     },
     "execution_count": 9,
     "metadata": {},
     "output_type": "execute_result"
    },
    {
     "data": {
      "text/plain": [
       "Text(0.5, 0, 'kg/capita/yr')"
      ]
     },
     "execution_count": 9,
     "metadata": {},
     "output_type": "execute_result"
    },
    {
     "data": {
      "image/png": "[encoded data removed]",
      "text/plain": [
       "<Figure size 432x288 with 1 Axes>"
      ]
     },
     "metadata": {
      "needs_background": "light"
     },
     "output_type": "display_data"
    }
   ],
   "source": [
    "colors=['#fae588','#f79d65','#f9dc5c','#e8ac65','#e76f51','#ef233c','#b7094c']\n",
    "consumption_Entity_top20_bar = consumption[['Entity','Fish, Seafood- Food supply quantity (kg/capita/yr) (FAO, 2020)']]\n",
    "consumption_Entity_top20_bar = consumption_Entity_top20_bar.groupby('Entity', as_index=False).agg({'Fish, Seafood- Food supply quantity (kg/capita/yr) (FAO, 2020)':'sum'})\n",
    "consumption_Entity_top20_bar = consumption_Entity_top20_bar.sort_values('Fish, Seafood- Food supply quantity (kg/capita/yr) (FAO, 2020)',ascending=False).head(20)\n",
    "\n",
    "fig3 = sns.barplot(x = consumption_Entity_top20_bar['Fish, Seafood- Food supply quantity (kg/capita/yr) (FAO, 2020)'], y = consumption_Entity_top20_bar['Entity'],palette = \"rocket\")\n",
    "mtpl.pyplot.title('Consumption of Top 20 Countries')\n",
    "mtpl.pyplot.xlabel('kg/capita/yr')\n",
    "mtpl.pyplot.grid(True)\n",
    "\n",
    "#Enabling the display of values per country\n",
    "def show_values_on_bars(axs, h_v=\"v\", space=0.4):\n",
    "    def _show_on_single_plot(ax):\n",
    "        if h_v == \"v\":\n",
    "            for p in ax.patches:\n",
    "                _x = p.get_x() + p.get_width() / 2\n",
    "                _y = p.get_y() + p.get_height()\n",
    "                value = int(p.get_height())\n",
    "                ax.text(_x, _y, value, ha=\"center\") \n",
    "        elif h_v == \"h\":\n",
    "            for p in ax.patches:\n",
    "                _x = p.get_x() + p.get_width() + float(space)\n",
    "                _y = p.get_y() + p.get_height()\n",
    "                value = int(p.get_width())\n",
    "                ax.text(_x, _y, value, ha=\"left\")\n",
    "\n",
    "    if isinstance(axs, np.ndarray):\n",
    "        for idx, ax in np.ndenumerate(axs):\n",
    "            _show_on_single_plot(ax)\n",
    "    else:\n",
    "        _show_on_single_plot(axs)\n",
    "\n",
    "\n",
    "show_values_on_bars(fig3, \"h\", 0.3)"
   ]
  },
  {
   "cell_type": "markdown",
   "metadata": {},
   "source": [
    "## Checking the Percentage of the top 20 countries over the total number of consumption"
   ]
  },
  {
   "cell_type": "code",
   "execution_count": 10,
   "metadata": {},
   "outputs": [
    {
     "name": "stdout",
     "output_type": "stream",
     "text": [
      "The top 20 countries consume % 36.27 from the total consumption of seafood in the world\n"
     ]
    }
   ],
   "source": [
    "Total_consumption = sum(consumption['Fish, Seafood- Food supply quantity (kg/capita/yr) (FAO, 2020)'])\n",
    "Total_top20_consumption = sum(consumption_Entity_top20['Fish, Seafood- Food supply quantity (kg/capita/yr) (FAO, 2020)'])\n",
    "Percentage_Total = round((Total_top20_consumption/Total_consumption) * 100, ndigits=2) \n",
    "print(\"The top 20 countries consume %\",Percentage_Total,\"from the total consumption of seafood in the world\")"
   ]
  },
  {
   "cell_type": "markdown",
   "metadata": {},
   "source": [
    "## Tracking the difference of the total production and total consumption\n"
   ]
  },
  {
   "cell_type": "markdown",
   "metadata": {},
   "source": [
    "### TOTALS WITH NO TIMLINE"
   ]
  },
  {
   "cell_type": "code",
   "execution_count": 11,
   "metadata": {},
   "outputs": [
    {
     "data": {
      "text/plain": [
       "([<matplotlib.patches.Wedge at 0x12351ad90>,\n",
       "  <matplotlib.patches.Wedge at 0x12351ac50>],\n",
       " [Text(0.3988749501398499, 1.0251335396673609, 'Total_Consumption(MetricTonnes)'),\n",
       "  Text(-0.39887504611977753, -1.025133502321988, 'Total_Production')],\n",
       " [Text(0.2175681546217363, 0.5591637489094695, '38.2%'),\n",
       "  Text(-0.2175682069744241, -0.5591637285392661, '61.8%')])"
      ]
     },
     "execution_count": 11,
     "metadata": {},
     "output_type": "execute_result"
    },
    {
     "data": {
      "text/plain": [
       "Text(0.5, 1.0, 'Total Production vs Total Consumption')"
      ]
     },
     "execution_count": 11,
     "metadata": {},
     "output_type": "execute_result"
    },
    {
     "data": {
      "image/png": "[encoded data removed]",
      "text/plain": [
       "<Figure size 432x288 with 1 Axes>"
      ]
     },
     "metadata": {},
     "output_type": "display_data"
    }
   ],
   "source": [
    "#Adding a total production column\n",
    "captured_vs_farmed['Total_Production'] = captured_vs_farmed['Aquaculture_production_(metric_tons)'] + captured_vs_farmed['Capture_fisheries_production_(metric_tons)']\n",
    "\n",
    "#Grouping the captured/farmed table by entity\n",
    "captured_vs_farmed_group = captured_vs_farmed.groupby('Entity', as_index=False).agg({'Total_Production':'sum'})\n",
    "\n",
    "#Grouping the consumption table by entity\n",
    "consumption_group = consumption.groupby('Entity', as_index=False).agg({'Fish, Seafood- Food supply quantity (kg/capita/yr) (FAO, 2020)' : 'sum'})\n",
    "\n",
    "##Converting the Kg to Metric Tonnes\n",
    "consumption_group =  consumption_group.rename(columns={'Fish, Seafood- Food supply quantity (kg/capita/yr) (FAO, 2020)':'Total_consumption'})\n",
    "consumption_group['Total_consumption'] = consumption_group['Total_consumption']/1000\n",
    "\n",
    "##In order to be able to get and analyze the difference between the production and the consumption we need to get all the numbers in the same measuring units, so in this case we need to convert the kg/capita/yr to metric tonnes and in order to do that we will need the population number per year per country which we will get from https://data.worldbank.org/indicator/SP.POP.TOTL\n",
    "\n",
    "#Importing the Population data\n",
    "population_data = pd.read_excel(\"~/Desktop/Data Analysis Case Studies/Case Study 4/API_SP.POP.TOTL_DS2_en_excel_v2_3358348.xlsx\", sheet_name=0, skiprows= 3)\n",
    "population_data = population_data.drop(['Indicator Name', 'Indicator Code'], axis = 1)\n",
    "population_data = population_data.melt(id_vars=['Country Name', 'Country Code'], var_name='Year', value_name='Population_count')\n",
    "population_data = population_data.rename(columns = {'Country Name':'Entity'})\n",
    "\n",
    "#Group the population table by Entity\n",
    "population_data_Group = population_data.groupby('Entity',as_index=False).agg({'Population_count':'mean'})\n",
    "population_data_Group = population_data_Group.rename(columns = {'Population_count':'Average_Population'})\n",
    "\n",
    "#Merging the Population_data with the Consumption_group\n",
    "Consumption_population_data = pd.merge(population_data_Group,consumption_group)\n",
    "Consumption_population_data['Total_Consumption(MetricTonnes)'] = Consumption_population_data['Total_consumption'] * Consumption_population_data['Average_Population']\n",
    "Consumption_population_data = Consumption_population_data[['Entity', 'Total_Consumption(MetricTonnes)']]\n",
    "\n",
    "#Merging the Consumption data with the captured/Farmed data (\"Production\" data)\n",
    "Cons_Prod_Diff = pd.merge(Consumption_population_data, captured_vs_farmed_group)\n",
    "Cons_Prod_Diff = Cons_Prod_Diff.round(decimals=0)\n",
    "\n",
    "#Creating a difference column which measures the difference between the production and the consumption per country\n",
    "Cons_Prod_Diff['Difference'] = Cons_Prod_Diff['Total_Production'] - Cons_Prod_Diff['Total_Consumption(MetricTonnes)']\n",
    "\n",
    "#Visualizing and Analyzing the Difference to see if there is a surplus or a deficit in the seafood production in the world\n",
    "Cons_Prod_Diff = Cons_Prod_Diff.melt(id_vars='Entity', var_name='Measure(MetricTones)', value_name=\"Value\")\n",
    "Cons_Prod_Diff_group = Cons_Prod_Diff.groupby('Measure(MetricTones)', as_index=False).agg({'Value' : 'sum'})\n",
    "Cons_Prod_Diff_group = Cons_Prod_Diff_group[Cons_Prod_Diff_group['Measure(MetricTones)'] != 'Difference'] \n",
    "mtpl.pyplot.pie(Cons_Prod_Diff_group['Value'], labels=Cons_Prod_Diff_group['Measure(MetricTones)'], shadow=True, autopct='%1.1f%%', textprops={'color':\"w\"})\n",
    "mtpl.pyplot.title('Total Production vs Total Consumption', color = 'w')\n",
    "mtpl.pyplot.show()"
   ]
  },
  {
   "cell_type": "markdown",
   "metadata": {},
   "source": [
    "This shows clearly that there is a good amount of surpluss between what is produced vs what is consumed. The chart shows us that there is a surpluss of %23.6 of seafood which leads to an increase of waste or unedible expired products..etc. So this graph shows that the production of seafood in total is not being done in an efficient way."
   ]
  },
  {
   "cell_type": "markdown",
   "metadata": {},
   "source": [
    "### TIMELINE DIFFERENCE OVER THE YEARS"
   ]
  },
  {
   "cell_type": "code",
   "execution_count": 12,
   "metadata": {},
   "outputs": [
    {
     "data": {
      "text/plain": [
       "[<matplotlib.lines.Line2D at 0x12353b4d0>]"
      ]
     },
     "execution_count": 12,
     "metadata": {},
     "output_type": "execute_result"
    },
    {
     "data": {
      "text/plain": [
       "[<matplotlib.lines.Line2D at 0x123543210>]"
      ]
     },
     "execution_count": 12,
     "metadata": {},
     "output_type": "execute_result"
    },
    {
     "data": {
      "text/plain": [
       "[<matplotlib.lines.Line2D at 0x1235434d0>]"
      ]
     },
     "execution_count": 12,
     "metadata": {},
     "output_type": "execute_result"
    },
    {
     "data": {
      "text/plain": [
       "<matplotlib.legend.Legend at 0x12353b290>"
      ]
     },
     "execution_count": 12,
     "metadata": {},
     "output_type": "execute_result"
    },
    {
     "data": {
      "text/plain": [
       "Text(0.5, 1.0, 'Production vs Consumption Difference')"
      ]
     },
     "execution_count": 12,
     "metadata": {},
     "output_type": "execute_result"
    },
    {
     "data": {
      "text/plain": [
       "Text(0, 0.5, 'Metric Tones (10^8)')"
      ]
     },
     "execution_count": 12,
     "metadata": {},
     "output_type": "execute_result"
    },
    {
     "data": {
      "text/plain": [
       "([<matplotlib.axis.XTick at 0x1234e71d0>,\n",
       "  <matplotlib.axis.XTick at 0x1234e7250>,\n",
       "  <matplotlib.axis.XTick at 0x1234e4250>,\n",
       "  <matplotlib.axis.XTick at 0x123555090>,\n",
       "  <matplotlib.axis.XTick at 0x12354cb10>,\n",
       "  <matplotlib.axis.XTick at 0x12354c810>,\n",
       "  <matplotlib.axis.XTick at 0x12354c3d0>,\n",
       "  <matplotlib.axis.XTick at 0x123548390>,\n",
       "  <matplotlib.axis.XTick at 0x123548510>,\n",
       "  <matplotlib.axis.XTick at 0x123548f10>,\n",
       "  <matplotlib.axis.XTick at 0x12350cb10>,\n",
       "  <matplotlib.axis.XTick at 0x1235488d0>,\n",
       "  <matplotlib.axis.XTick at 0x12354cc50>],\n",
       " [Text(0, 0, '1960'),\n",
       "  Text(0, 0, '1965'),\n",
       "  Text(0, 0, '1970'),\n",
       "  Text(0, 0, '1975'),\n",
       "  Text(0, 0, '1980'),\n",
       "  Text(0, 0, '1985'),\n",
       "  Text(0, 0, '1990'),\n",
       "  Text(0, 0, '1995'),\n",
       "  Text(0, 0, '2000'),\n",
       "  Text(0, 0, '2005'),\n",
       "  Text(0, 0, '2010'),\n",
       "  Text(0, 0, '2015'),\n",
       "  Text(0, 0, '2020')])"
      ]
     },
     "execution_count": 12,
     "metadata": {},
     "output_type": "execute_result"
    },
    {
     "data": {
      "text/plain": [
       "<matplotlib.axes._subplots.AxesSubplot at 0x12358b9d0>"
      ]
     },
     "execution_count": 12,
     "metadata": {},
     "output_type": "execute_result"
    },
    {
     "data": {
      "text/plain": [
       "<matplotlib.legend.Legend at 0x1234cd150>"
      ]
     },
     "execution_count": 12,
     "metadata": {},
     "output_type": "execute_result"
    },
    {
     "data": {
      "text/plain": [
       "Text(0.5, 1.0, 'Population Count Timeline')"
      ]
     },
     "execution_count": 12,
     "metadata": {},
     "output_type": "execute_result"
    },
    {
     "data": {
      "text/plain": [
       "([<matplotlib.axis.XTick at 0x123618050>,\n",
       "  <matplotlib.axis.XTick at 0x12360ffd0>,\n",
       "  <matplotlib.axis.XTick at 0x123671890>,\n",
       "  <matplotlib.axis.XTick at 0x123699550>,\n",
       "  <matplotlib.axis.XTick at 0x123699c90>,\n",
       "  <matplotlib.axis.XTick at 0x1236a4290>,\n",
       "  <matplotlib.axis.XTick at 0x1236a4790>,\n",
       "  <matplotlib.axis.XTick at 0x1236a4cd0>,\n",
       "  <matplotlib.axis.XTick at 0x12360fb90>,\n",
       "  <matplotlib.axis.XTick at 0x1236aaa50>,\n",
       "  <matplotlib.axis.XTick at 0x1236aac50>,\n",
       "  <matplotlib.axis.XTick at 0x1236996d0>,\n",
       "  <matplotlib.axis.XTick at 0x1236bd490>],\n",
       " [Text(0, 0, '1960'),\n",
       "  Text(0, 0, '1965'),\n",
       "  Text(0, 0, '1970'),\n",
       "  Text(0, 0, '1975'),\n",
       "  Text(0, 0, '1980'),\n",
       "  Text(0, 0, '1985'),\n",
       "  Text(0, 0, '1990'),\n",
       "  Text(0, 0, '1995'),\n",
       "  Text(0, 0, '2000'),\n",
       "  Text(0, 0, '2005'),\n",
       "  Text(0, 0, '2010'),\n",
       "  Text(0, 0, '2015'),\n",
       "  Text(0, 0, '2020')])"
      ]
     },
     "execution_count": 12,
     "metadata": {},
     "output_type": "execute_result"
    },
    {
     "data": {
      "image/png": "[encoded data removed]",
      "text/plain": [
       "<Figure size 432x288 with 1 Axes>"
      ]
     },
     "metadata": {
      "needs_background": "light"
     },
     "output_type": "display_data"
    },
    {
     "data": {
      "image/png": "[encoded data removed]",
      "text/plain": [
       "<Figure size 432x288 with 1 Axes>"
      ]
     },
     "metadata": {
      "needs_background": "light"
     },
     "output_type": "display_data"
    }
   ],
   "source": [
    "#Grouping the captured/farmed table by entity and year (Production)\n",
    "captured_vs_farmed_TimeGroup = captured_vs_farmed.groupby(['Entity', 'Year'], as_index=False).agg({'Total_Production':'sum'})\n",
    "\n",
    "#Grouping the consumption table by entity and year (Consumption)\n",
    "consumption_TimeGroup = consumption.groupby(['Entity', 'Year'], as_index=False).agg({'Fish, Seafood- Food supply quantity (kg/capita/yr) (FAO, 2020)':'sum'})\n",
    "consumption_TimeGroup = consumption_TimeGroup.rename(columns = {'Fish, Seafood- Food supply quantity (kg/capita/yr) (FAO, 2020)': 'Total_Consumption'})\n",
    "consumption_TimeGroup['Total_Consumption'] = consumption_TimeGroup['Total_Consumption']/1000\n",
    "\n",
    "#Group the population table by Country Name\n",
    "population_data_TimeGroup = population_data.groupby(['Entity', 'Year'], as_index = False).agg({'Population_count':'sum'})\n",
    "population_data_TimeGroup['Year'] = population_data_TimeGroup['Year'].astype(int)\n",
    "\n",
    "#Merging the Population_data with the Consumption_group (TimeGroups)\n",
    "Consumption_population_TimeData = pd.merge(consumption_TimeGroup, population_data_TimeGroup)\n",
    "Consumption_population_TimeData = Consumption_population_TimeData[Consumption_population_TimeData['Total_Consumption'] != 0]\n",
    "Consumption_population_TimeData['Total_consumption (Metric Tones)'] = Consumption_population_TimeData['Total_Consumption'] * Consumption_population_TimeData['Population_count']\n",
    "Consumption_population_TimeData = Consumption_population_TimeData.drop(['Total_Consumption'],axis = 1)\n",
    "Consumption_population_TimeData['Total_consumption (Metric Tones)'] = round(Consumption_population_TimeData['Total_consumption (Metric Tones)'], ndigits=0)\n",
    "\n",
    "#Merging the Consumption data with the captured/Farmed data (\"Production\" data)\n",
    "Cons_Prod_TimeGroup = pd.merge(Consumption_population_TimeData, captured_vs_farmed_TimeGroup)\n",
    "\n",
    "#Creating a difference column which measures the difference between the production and the consumption per country\n",
    "Cons_Prod_TimeGroup['Difference'] = Cons_Prod_TimeGroup['Total_Production'] - Cons_Prod_TimeGroup['Total_consumption (Metric Tones)']\n",
    "Cons_Prod_TimeGroup = Cons_Prod_TimeGroup.rename(columns = {'Total_consumption (Metric Tones)':'Total_Consumption'})\n",
    "\n",
    "\n",
    "#Visualizing and Analyzing the Difference to see if there is a surplus or a deficit in the seafood production in the world\n",
    "df3 = Cons_Prod_TimeGroup.groupby(['Year'], as_index= False).sum()\n",
    "\n",
    "##Plot 1\n",
    "mtpl.pyplot.plot('Year', 'Total_Production', data= df3, marker=\"o\")\n",
    "mtpl.pyplot.plot('Year', 'Total_Consumption', data= df3, marker=\"x\")\n",
    "mtpl.pyplot.plot('Year', 'Difference', data= df3, marker=\"\")\n",
    "mtpl.pyplot.legend()\n",
    "mtpl.pyplot.title('Production vs Consumption Difference')\n",
    "mtpl.pyplot.ylabel('Metric Tones (10^8)')\n",
    "mtpl.pyplot.grid(True)\n",
    "x = [1960, 1965, 1970,1975,1980,1985,1990,1995,2000,2005,2010,2015,2020]\n",
    "mtpl.pyplot.xticks(x,x)\n",
    "\n",
    "\n",
    "##Plot 2\n",
    "df3.plot('Year', 'Population_count')\n",
    "mtpl.pyplot.legend()\n",
    "mtpl.pyplot.title('Population Count Timeline')\n",
    "mtpl.pyplot.grid(True)\n",
    "x = [1960, 1965, 1970,1975,1980,1985,1990,1995,2000,2005,2010,2015,2020]\n",
    "mtpl.pyplot.xticks(x,x)\n"
   ]
  },
  {
   "cell_type": "markdown",
   "metadata": {},
   "source": [
    "All the numbers in the above graphs show a significant increase from the 1960s till 2017, by all we are including the difference (surplus) of the production of total seafood in the world.\n",
    "It seems that as the population increases along with the consumption, naturally, of seafood related products the production is increasing with a much higher pace than the population and the consumption, that's why there is always extra production hence paving the way of unnecessary waste, which has a negative side effect to the environment and aqua life, so it is very important to emphasize here on the control of the production of seafood to decrease the surplus of a huge ~50,000,000 metric tonnes per year of seafood.\n"
   ]
  },
  {
   "cell_type": "markdown",
   "metadata": {},
   "source": [
    "## Visualizing the Sustainable vs Overexploited fish throughout the years"
   ]
  },
  {
   "cell_type": "code",
   "execution_count": 13,
   "metadata": {},
   "outputs": [
    {
     "data": {
      "text/plain": [
       "[<matplotlib.lines.Line2D at 0x1236e65d0>]"
      ]
     },
     "execution_count": 13,
     "metadata": {},
     "output_type": "execute_result"
    },
    {
     "data": {
      "text/plain": [
       "[<matplotlib.lines.Line2D at 0x1233f5210>]"
      ]
     },
     "execution_count": 13,
     "metadata": {},
     "output_type": "execute_result"
    },
    {
     "data": {
      "text/plain": [
       "<matplotlib.legend.Legend at 0x1233f5890>"
      ]
     },
     "execution_count": 13,
     "metadata": {},
     "output_type": "execute_result"
    },
    {
     "data": {
      "text/plain": [
       "Text(0.5, 1.0, 'Sustainable vs Overexploited fish')"
      ]
     },
     "execution_count": 13,
     "metadata": {},
     "output_type": "execute_result"
    },
    {
     "data": {
      "text/plain": [
       "Text(0, 0.5, 'Value(%)')"
      ]
     },
     "execution_count": 13,
     "metadata": {},
     "output_type": "execute_result"
    },
    {
     "data": {
      "text/plain": [
       "([<matplotlib.axis.XTick at 0x1236ef910>,\n",
       "  <matplotlib.axis.XTick at 0x1236ef750>,\n",
       "  <matplotlib.axis.XTick at 0x1232c6710>,\n",
       "  <matplotlib.axis.XTick at 0x1236e5f50>,\n",
       "  <matplotlib.axis.XTick at 0x1236de910>,\n",
       "  <matplotlib.axis.XTick at 0x1236de6d0>,\n",
       "  <matplotlib.axis.XTick at 0x1236de610>,\n",
       "  <matplotlib.axis.XTick at 0x1234283d0>,\n",
       "  <matplotlib.axis.XTick at 0x123404f90>,\n",
       "  <matplotlib.axis.XTick at 0x1233e9590>],\n",
       " [Text(0, 0, '1975'),\n",
       "  Text(0, 0, '1980'),\n",
       "  Text(0, 0, '1985'),\n",
       "  Text(0, 0, '1990'),\n",
       "  Text(0, 0, '1995'),\n",
       "  Text(0, 0, '2000'),\n",
       "  Text(0, 0, '2005'),\n",
       "  Text(0, 0, '2010'),\n",
       "  Text(0, 0, '2015'),\n",
       "  Text(0, 0, '2017')])"
      ]
     },
     "execution_count": 13,
     "metadata": {},
     "output_type": "execute_result"
    },
    {
     "data": {
      "text/plain": [
       "([<matplotlib.axis.YTick at 0x123702e10>,\n",
       "  <matplotlib.axis.YTick at 0x12370aa90>,\n",
       "  <matplotlib.axis.YTick at 0x1232c6b90>,\n",
       "  <matplotlib.axis.YTick at 0x1226ad510>,\n",
       "  <matplotlib.axis.YTick at 0x1233fd310>,\n",
       "  <matplotlib.axis.YTick at 0x1234c8b90>,\n",
       "  <matplotlib.axis.YTick at 0x1234c8d90>,\n",
       "  <matplotlib.axis.YTick at 0x123519d90>,\n",
       "  <matplotlib.axis.YTick at 0x1234c82d0>,\n",
       "  <matplotlib.axis.YTick at 0x1236debd0>,\n",
       "  <matplotlib.axis.YTick at 0x123519550>],\n",
       " [Text(0, 0, '0'),\n",
       "  Text(0, 0, '10'),\n",
       "  Text(0, 0, '20'),\n",
       "  Text(0, 0, '30'),\n",
       "  Text(0, 0, '40'),\n",
       "  Text(0, 0, '50'),\n",
       "  Text(0, 0, '60'),\n",
       "  Text(0, 0, '70'),\n",
       "  Text(0, 0, '80'),\n",
       "  Text(0, 0, '90'),\n",
       "  Text(0, 0, '100')])"
      ]
     },
     "execution_count": 13,
     "metadata": {},
     "output_type": "execute_result"
    },
    {
     "data": {
      "image/png": "[encoded data removed]",
      "text/plain": [
       "<Figure size 432x288 with 1 Axes>"
      ]
     },
     "metadata": {
      "needs_background": "light"
     },
     "output_type": "display_data"
    }
   ],
   "source": [
    "df4 = stock.drop(['Code'], axis = 1)\n",
    "df4 = df4.rename(columns = {'Share of fish stocks within biologically sustainable levels (FAO, 2020)' : 'Sustainable',\n",
    "                                                'Share of fish stocks that are overexploited' : 'Overexploited'})\n",
    "#stock_pivoted = stock_pivoted.melt(id_vars= ['Year', 'Entity'], var_name = 'Description', value_name = 'Value')\n",
    "df4 = df4[df4['Entity']=='World']\n",
    "df4 = df4.groupby(['Year'], as_index=False).sum()\n",
    "\n",
    "mtpl.pyplot.plot('Year', 'Sustainable', data= df4, marker=\"o\")\n",
    "mtpl.pyplot.plot('Year', 'Overexploited', data= df4, marker=\"x\")\n",
    "mtpl.pyplot.legend()\n",
    "mtpl.pyplot.title('Sustainable vs Overexploited fish')\n",
    "mtpl.pyplot.ylabel('Value(%)')\n",
    "mtpl.pyplot.grid(True)\n",
    "x = [1975,1980,1985,1990,1995,2000,2005,2010,2015,2017]\n",
    "y = [0,10,20,30,40,50,60,70,80,90,100]\n",
    "mtpl.pyplot.xticks(x,x)\n",
    "mtpl.pyplot.yticks(y,y)"
   ]
  },
  {
   "cell_type": "markdown",
   "metadata": {},
   "source": [
    "Starting from 1978 the sustainable Fish % is on almost a constant decrease starting from %91.46 till it reaches %65.85 in 2017 and in parallel the % of overexploited fish is increasing starting from 1978 with a % of 8.53 till it reaches %34.15 in 2017. So there's a change of %25.61 from 1978 till 2017, this indicates that with the increase of population the production is naturally increasing but not efficiently which is causing waste and overexploited fish, which is basically harming the aqua life and is probably causing an increase to global warming because of unncessary waste."
   ]
  },
  {
   "cell_type": "markdown",
   "metadata": {},
   "source": [
    "## Visualizing the type of fisheries throughout the years"
   ]
  },
  {
   "cell_type": "code",
   "execution_count": 14,
   "metadata": {},
   "outputs": [
    {
     "data": {
      "text/plain": [
       "[<matplotlib.lines.Line2D at 0x1235104d0>]"
      ]
     },
     "execution_count": 14,
     "metadata": {},
     "output_type": "execute_result"
    },
    {
     "data": {
      "text/plain": [
       "[<matplotlib.lines.Line2D at 0x1235125d0>]"
      ]
     },
     "execution_count": 14,
     "metadata": {},
     "output_type": "execute_result"
    },
    {
     "data": {
      "text/plain": [
       "[<matplotlib.lines.Line2D at 0x1234f3f90>]"
      ]
     },
     "execution_count": 14,
     "metadata": {},
     "output_type": "execute_result"
    },
    {
     "data": {
      "text/plain": [
       "[<matplotlib.lines.Line2D at 0x1234fba90>]"
      ]
     },
     "execution_count": 14,
     "metadata": {},
     "output_type": "execute_result"
    },
    {
     "data": {
      "text/plain": [
       "[<matplotlib.lines.Line2D at 0x1234b7810>]"
      ]
     },
     "execution_count": 14,
     "metadata": {},
     "output_type": "execute_result"
    },
    {
     "data": {
      "text/plain": [
       "<matplotlib.legend.Legend at 0x1234b7bd0>"
      ]
     },
     "execution_count": 14,
     "metadata": {},
     "output_type": "execute_result"
    },
    {
     "data": {
      "text/plain": [
       "Text(0.5, 1.0, 'Fishery Type Productions')"
      ]
     },
     "execution_count": 14,
     "metadata": {},
     "output_type": "execute_result"
    },
    {
     "data": {
      "text/plain": [
       "Text(0, 0.5, 'Metric Tone')"
      ]
     },
     "execution_count": 14,
     "metadata": {},
     "output_type": "execute_result"
    },
    {
     "data": {
      "text/plain": [
       "([<matplotlib.axis.XTick at 0x12351af10>,\n",
       "  <matplotlib.axis.XTick at 0x12351a090>,\n",
       "  <matplotlib.axis.XTick at 0x123564d10>,\n",
       "  <matplotlib.axis.XTick at 0x123521650>,\n",
       "  <matplotlib.axis.XTick at 0x123521bd0>,\n",
       "  <matplotlib.axis.XTick at 0x1234fe050>,\n",
       "  <matplotlib.axis.XTick at 0x1234fe6d0>,\n",
       "  <matplotlib.axis.XTick at 0x1234fec10>,\n",
       "  <matplotlib.axis.XTick at 0x1234fe2d0>,\n",
       "  <matplotlib.axis.XTick at 0x123716d10>,\n",
       "  <matplotlib.axis.XTick at 0x1235143d0>,\n",
       "  <matplotlib.axis.XTick at 0x123514910>,\n",
       "  <matplotlib.axis.XTick at 0x123514e50>],\n",
       " [Text(0, 0, '1950'),\n",
       "  Text(0, 0, '1955'),\n",
       "  Text(0, 0, '1960'),\n",
       "  Text(0, 0, '1965'),\n",
       "  Text(0, 0, '1970'),\n",
       "  Text(0, 0, '1975'),\n",
       "  Text(0, 0, '1980'),\n",
       "  Text(0, 0, '1985'),\n",
       "  Text(0, 0, '1990'),\n",
       "  Text(0, 0, '1995'),\n",
       "  Text(0, 0, '2000'),\n",
       "  Text(0, 0, '2005'),\n",
       "  Text(0, 0, '2010')])"
      ]
     },
     "execution_count": 14,
     "metadata": {},
     "output_type": "execute_result"
    },
    {
     "data": {
      "text/plain": [
       "([<matplotlib.axis.YTick at 0x1234db850>,\n",
       "  <matplotlib.axis.YTick at 0x1234c5790>,\n",
       "  <matplotlib.axis.YTick at 0x123546a50>,\n",
       "  <matplotlib.axis.YTick at 0x123514590>,\n",
       "  <matplotlib.axis.YTick at 0x1235891d0>,\n",
       "  <matplotlib.axis.YTick at 0x123577090>,\n",
       "  <matplotlib.axis.YTick at 0x1235776d0>,\n",
       "  <matplotlib.axis.YTick at 0x123577c10>,\n",
       "  <matplotlib.axis.YTick at 0x1235880d0>,\n",
       "  <matplotlib.axis.YTick at 0x1235886d0>,\n",
       "  <matplotlib.axis.YTick at 0x123588bd0>,\n",
       "  <matplotlib.axis.YTick at 0x12359a090>,\n",
       "  <matplotlib.axis.YTick at 0x123588650>,\n",
       "  <matplotlib.axis.YTick at 0x123577310>,\n",
       "  <matplotlib.axis.YTick at 0x123577750>,\n",
       "  <matplotlib.axis.YTick at 0x12359a890>,\n",
       "  <matplotlib.axis.YTick at 0x12359ae10>,\n",
       "  <matplotlib.axis.YTick at 0x12359d390>],\n",
       " [Text(0, 0, '5000000'),\n",
       "  Text(0, 0, '10000000'),\n",
       "  Text(0, 0, '15000000'),\n",
       "  Text(0, 0, '20000000'),\n",
       "  Text(0, 0, '25000000'),\n",
       "  Text(0, 0, '30000000'),\n",
       "  Text(0, 0, '40000000'),\n",
       "  Text(0, 0, '45000000'),\n",
       "  Text(0, 0, '50000000'),\n",
       "  Text(0, 0, '55000000'),\n",
       "  Text(0, 0, '60000000'),\n",
       "  Text(0, 0, '65000000'),\n",
       "  Text(0, 0, '70000000'),\n",
       "  Text(0, 0, '75000000'),\n",
       "  Text(0, 0, '80000000'),\n",
       "  Text(0, 0, '85000000'),\n",
       "  Text(0, 0, '90000000'),\n",
       "  Text(0, 0, '95000000')])"
      ]
     },
     "execution_count": 14,
     "metadata": {},
     "output_type": "execute_result"
    },
    {
     "data": {
      "text/plain": [
       "[Text(0, 0, '5,000,000'),\n",
       " Text(0, 0, '10,000,000'),\n",
       " Text(0, 0, '15,000,000'),\n",
       " Text(0, 0, '20,000,000'),\n",
       " Text(0, 0, '25,000,000'),\n",
       " Text(0, 0, '30,000,000'),\n",
       " Text(0, 0, '40,000,000'),\n",
       " Text(0, 0, '45,000,000'),\n",
       " Text(0, 0, '50,000,000'),\n",
       " Text(0, 0, '55,000,000'),\n",
       " Text(0, 0, '60,000,000'),\n",
       " Text(0, 0, '65,000,000'),\n",
       " Text(0, 0, '70,000,000'),\n",
       " Text(0, 0, '75,000,000'),\n",
       " Text(0, 0, '80,000,000'),\n",
       " Text(0, 0, '85,000,000'),\n",
       " Text(0, 0, '90,000,000'),\n",
       " Text(0, 0, '95,000,000')]"
      ]
     },
     "execution_count": 14,
     "metadata": {},
     "output_type": "execute_result"
    },
    {
     "data": {
      "image/png": "[encoded data removed]",
      "text/plain": [
       "<Figure size 432x288 with 1 Axes>"
      ]
     },
     "metadata": {
      "needs_background": "light"
     },
     "output_type": "display_data"
    }
   ],
   "source": [
    "df5 = fishery.rename(columns = {'Artisanal (small-scale commercial)' : 'Artisanal (small-scale)',\n",
    "                                'Industrial (large-scale commercial)' : 'Industrial (large-scale)'})\n",
    "\n",
    "mtpl.pyplot.plot('Year', 'Artisanal (small-scale)', data= df5, linestyle = '-.', color = 'r')\n",
    "mtpl.pyplot.plot('Year', 'Discards', data= df5, linestyle = '-', color = 'b')\n",
    "mtpl.pyplot.plot('Year', 'Industrial (large-scale)', data= df5, linestyle = '--', color = 'y', linewidth = '2')\n",
    "mtpl.pyplot.plot('Year', 'Recreational', data= df5, linestyle = '--', color = 'k')\n",
    "mtpl.pyplot.plot('Year', 'Subsistence', data= df5, linestyle = 'dotted', color = 'g')\n",
    "mtpl.pyplot.legend()\n",
    "mtpl.pyplot.title('Fishery Type Productions')\n",
    "mtpl.pyplot.ylabel('Metric Tone')\n",
    "mtpl.pyplot.grid(True)\n",
    "x = [1950, 1955, 1960, 1965, 1970, 1975, 1980, 1985, 1990, 1995, 2000, 2005, 2010]\n",
    "y = [5000000, 10000000,15000000,20000000,25000000,30000000,40000000,45000000,50000000,55000000,60000000,65000000,70000000,75000000,80000000,85000000,90000000,95000000]\n",
    "mtpl.pyplot.xticks(x,x)\n",
    "mtpl.pyplot.yticks(y,y)\n",
    "current_values = mtpl.pyplot.gca().get_yticks()\n",
    "mtpl.pyplot.gca().set_yticklabels(['{:,.0f}'.format(x) for x in current_values])"
   ]
  },
  {
   "cell_type": "markdown",
   "metadata": {},
   "source": [
    "The graph is showing us here that the industrial (large scale) fisheries, even though are the largest, are slowly declining after 1996 reaching a level of 75 Million metric tones by 2010, but at the same time we see that throughout this 60 year span the Artisanal (small_scale) fisheries are increasing in fish quantity stored/produced. This shows us 2 things, first more people are starting to go fishing either by boat or on the shore which is causing them to consume less industrial produced fish related products. And second, since the demand is decreasing on the industrial fisheries the Discards are also decreasing after 1995, this means that the industries, with the affects of technology as well, are running more efficiently."
   ]
  }
 ],
 "metadata": {
  "interpreter": {
   "hash": "aee8b7b246df8f9039afb4144a1f6fd8d2ca17a180786b69acc140d282b71a49"
  },
  "kernelspec": {
   "display_name": "Python 3.7.7 64-bit",
   "name": "python3"
  },
  "language_info": {
   "codemirror_mode": {
    "name": "ipython",
    "version": 3
   },
   "file_extension": ".py",
   "mimetype": "text/x-python",
   "name": "python",
   "nbconvert_exporter": "python",
   "pygments_lexer": "ipython3",
   "version": "3.7.7"
  }
 },
 "nbformat": 4,
 "nbformat_minor": 4
}
